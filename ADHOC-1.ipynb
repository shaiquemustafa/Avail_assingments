{
 "cells": [
  {
   "cell_type": "code",
   "execution_count": 3,
   "metadata": {
    "collapsed": true
   },
   "outputs": [],
   "source": [
    "import numpy as np\n",
    "import os\n",
    "os.chdir('Shaique/ProbR/GBM/Adhoc')\n",
    "os.getcwd()\n",
    "import pandas as pd\n",
    "from datetime import datetime\n",
    "import numpy as np"
   ]
  },
  {
   "cell_type": "code",
   "execution_count": 4,
   "metadata": {},
   "outputs": [
    {
     "name": "stderr",
     "output_type": "stream",
     "text": [
      "/opt/python/python35/lib/python3.5/site-packages/IPython/core/interactiveshell.py:2698: DtypeWarning: Columns (61,62,94,95) have mixed types. Specify dtype option on import or set low_memory=False.\n",
      "  interactivity=interactivity, compiler=compiler, result=result)\n"
     ]
    }
   ],
   "source": [
    "df=pd.read_csv(\"listings.csv\")"
   ]
  },
  {
   "cell_type": "code",
   "execution_count": 7,
   "metadata": {},
   "outputs": [
    {
     "data": {
      "text/html": [
       "<div>\n",
       "<style scoped>\n",
       "    .dataframe tbody tr th:only-of-type {\n",
       "        vertical-align: middle;\n",
       "    }\n",
       "\n",
       "    .dataframe tbody tr th {\n",
       "        vertical-align: top;\n",
       "    }\n",
       "\n",
       "    .dataframe thead th {\n",
       "        text-align: right;\n",
       "    }\n",
       "</style>\n",
       "<table border=\"1\" class=\"dataframe\">\n",
       "  <thead>\n",
       "    <tr style=\"text-align: right;\">\n",
       "      <th></th>\n",
       "      <th>id</th>\n",
       "      <th>listing_url</th>\n",
       "      <th>scrape_id</th>\n",
       "      <th>last_scraped</th>\n",
       "      <th>name</th>\n",
       "      <th>summary</th>\n",
       "      <th>space</th>\n",
       "      <th>description</th>\n",
       "      <th>experiences_offered</th>\n",
       "      <th>neighborhood_overview</th>\n",
       "      <th>...</th>\n",
       "      <th>instant_bookable</th>\n",
       "      <th>is_business_travel_ready</th>\n",
       "      <th>cancellation_policy</th>\n",
       "      <th>require_guest_profile_picture</th>\n",
       "      <th>require_guest_phone_verification</th>\n",
       "      <th>calculated_host_listings_count</th>\n",
       "      <th>calculated_host_listings_count_entire_homes</th>\n",
       "      <th>calculated_host_listings_count_private_rooms</th>\n",
       "      <th>calculated_host_listings_count_shared_rooms</th>\n",
       "      <th>reviews_per_month</th>\n",
       "    </tr>\n",
       "  </thead>\n",
       "  <tbody>\n",
       "    <tr>\n",
       "      <th>0</th>\n",
       "      <td>13913</td>\n",
       "      <td>https://www.airbnb.com/rooms/13913</td>\n",
       "      <td>20190710134553</td>\n",
       "      <td>2019-07-11</td>\n",
       "      <td>Holiday London DB Room Let-on going</td>\n",
       "      <td>My bright double bedroom with a large window h...</td>\n",
       "      <td>Hello Everyone, I'm offering my lovely double ...</td>\n",
       "      <td>My bright double bedroom with a large window h...</td>\n",
       "      <td>business</td>\n",
       "      <td>Finsbury Park is a friendly melting pot commun...</td>\n",
       "      <td>...</td>\n",
       "      <td>f</td>\n",
       "      <td>f</td>\n",
       "      <td>moderate</td>\n",
       "      <td>f</td>\n",
       "      <td>f</td>\n",
       "      <td>3</td>\n",
       "      <td>1</td>\n",
       "      <td>2</td>\n",
       "      <td>0</td>\n",
       "      <td>0.15</td>\n",
       "    </tr>\n",
       "  </tbody>\n",
       "</table>\n",
       "<p>1 rows × 106 columns</p>\n",
       "</div>"
      ],
      "text/plain": [
       "      id                         listing_url       scrape_id last_scraped  \\\n",
       "0  13913  https://www.airbnb.com/rooms/13913  20190710134553   2019-07-11   \n",
       "\n",
       "                                  name  \\\n",
       "0  Holiday London DB Room Let-on going   \n",
       "\n",
       "                                             summary  \\\n",
       "0  My bright double bedroom with a large window h...   \n",
       "\n",
       "                                               space  \\\n",
       "0  Hello Everyone, I'm offering my lovely double ...   \n",
       "\n",
       "                                         description experiences_offered  \\\n",
       "0  My bright double bedroom with a large window h...            business   \n",
       "\n",
       "                               neighborhood_overview        ...          \\\n",
       "0  Finsbury Park is a friendly melting pot commun...        ...           \n",
       "\n",
       "  instant_bookable is_business_travel_ready cancellation_policy  \\\n",
       "0                f                        f            moderate   \n",
       "\n",
       "  require_guest_profile_picture require_guest_phone_verification  \\\n",
       "0                             f                                f   \n",
       "\n",
       "   calculated_host_listings_count  \\\n",
       "0                               3   \n",
       "\n",
       "   calculated_host_listings_count_entire_homes  \\\n",
       "0                                            1   \n",
       "\n",
       "  calculated_host_listings_count_private_rooms  \\\n",
       "0                                            2   \n",
       "\n",
       "   calculated_host_listings_count_shared_rooms  reviews_per_month  \n",
       "0                                            0               0.15  \n",
       "\n",
       "[1 rows x 106 columns]"
      ]
     },
     "execution_count": 7,
     "metadata": {},
     "output_type": "execute_result"
    }
   ],
   "source": [
    "df.head(1)"
   ]
  },
  {
   "cell_type": "markdown",
   "metadata": {},
   "source": [
    "# Data Exploration and Feature engineering "
   ]
  },
  {
   "cell_type": "code",
   "execution_count": 10,
   "metadata": {},
   "outputs": [
    {
     "data": {
      "text/plain": [
       "London                         82977\n",
       "Other (International)             10\n",
       "Plymouth                           4\n",
       "Other (Domestic)                   2\n",
       "Paris                              2\n",
       "Herefordshire and Mid Wales        1\n",
       "Oahu                               1\n",
       "Lancashire                         1\n",
       "Emilia Romagna Countryside         1\n",
       "Reims                              1\n",
       "Leeds                              1\n",
       "Orlando                            1\n",
       "Suffolk                            1\n",
       "La Baule and Noirmoutier           1\n",
       "Name: market, dtype: int64"
      ]
     },
     "execution_count": 10,
     "metadata": {},
     "output_type": "execute_result"
    }
   ],
   "source": [
    "df.market.value_counts()"
   ]
  },
  {
   "cell_type": "code",
   "execution_count": null,
   "metadata": {
    "collapsed": true
   },
   "outputs": [],
   "source": [
    "#we see that market is always london"
   ]
  },
  {
   "cell_type": "code",
   "execution_count": 28,
   "metadata": {},
   "outputs": [],
   "source": [
    "city_list=[\"Greater London\",\"London\",\n",
    "\"Twickenham\",\n",
    "\"Richmond\",\n",
    "\"Croydon\",\n",
    "\"Londres\",\n",
    "\"Ilford\",\n",
    "\"Kingston upon Thames\",\n",
    "\"Harrow\",\n",
    "\"Wembley\"]\n",
    "df.loc[(df.city==\"Greater London\"),'city_numeric']=1\n",
    "df.loc[(df.city==\"London\"),'city_numeric']=2\n",
    "df.loc[(df.city==\"Twickenham\"),'city_numeric']=3\n",
    "df.loc[(df.city==\"Richmond\"),'city_numeric']=4\n",
    "df.loc[(df.city==\"Croydon\"),'city_numeric']=5\n",
    "df.loc[(df.city==\"Londres\"),'city_numeric']=6\n",
    "\n",
    "df.loc[(df.city==\"Ilford\"),'city_numeric']=7\n",
    "df.loc[(df.city==\"Kingston upon Thames\"),'city_numeric']=8\n",
    "df.loc[(df.city==\"Harrow\"),'city_numeric']=9\n",
    "df.loc[(df.city==\"Wembley\"),'city_numeric']=10\n",
    "df.loc[(~df.city.isin(city_list)),'city_numeric']=11\n",
    "\n",
    "\n"
   ]
  },
  {
   "cell_type": "code",
   "execution_count": null,
   "metadata": {
    "collapsed": true
   },
   "outputs": [],
   "source": [
    "#converted into numbers so that it can be fed t the model as well"
   ]
  },
  {
   "cell_type": "code",
   "execution_count": 25,
   "metadata": {},
   "outputs": [
    {
     "data": {
      "text/plain": [
       "1.0     44228\n",
       "2.0     33977\n",
       "11.0     4448\n",
       "3.0       181\n",
       "4.0       180\n",
       "5.0       165\n",
       "6.0       158\n",
       "7.0       130\n",
       "8.0       130\n",
       "9.0       127\n",
       "10.0      126\n",
       "Name: city_numeric, dtype: int64"
      ]
     },
     "execution_count": 25,
     "metadata": {},
     "output_type": "execute_result"
    }
   ],
   "source": [
    "df.city_numeric.value_counts()"
   ]
  },
  {
   "cell_type": "code",
   "execution_count": 39,
   "metadata": {
    "collapsed": true
   },
   "outputs": [],
   "source": [
    "property_list=[\"Apartment\",\n",
    "\"House\",\n",
    "\"Townhouse\",\n",
    "\"Serviced apartment\",\n",
    "\"Condominium\",\n",
    "\"Bed and breakfast\"]\n",
    "df.loc[(df.property_type==\"Apartment\"),'property_numeric']=1\n",
    "df.loc[(df.property_type==\"House\"),'property_numeric']=2\n",
    "df.loc[(df.property_type==\"Townhouse\"),'property_numeric']=3\n",
    "df.loc[(df.property_type==\"Serviced apartment\"),'property_numeric']=4\n",
    "df.loc[(df.property_type==\"Condominium\"),'property_numeric']=5\n",
    "df.loc[(df.property_type==\"Bed and breakfast\"),'property_numeric']=6\n",
    "df.loc[(~df.property_type.isin(property_list)),'property_numeric']=7\n",
    "\n"
   ]
  },
  {
   "cell_type": "code",
   "execution_count": 40,
   "metadata": {},
   "outputs": [
    {
     "data": {
      "text/plain": [
       "1.0    56802\n",
       "2.0    17436\n",
       "3.0     2979\n",
       "7.0     2753\n",
       "4.0     1896\n",
       "5.0     1107\n",
       "6.0      877\n",
       "Name: property_numeric, dtype: int64"
      ]
     },
     "execution_count": 40,
     "metadata": {},
     "output_type": "execute_result"
    }
   ],
   "source": [
    "df.property_numeric.value_counts()"
   ]
  },
  {
   "cell_type": "code",
   "execution_count": 41,
   "metadata": {},
   "outputs": [
    {
     "data": {
      "text/plain": [
       "Entire home/apt    47142\n",
       "Private room       35972\n",
       "Shared room          736\n",
       "Name: room_type, dtype: int64"
      ]
     },
     "execution_count": 41,
     "metadata": {},
     "output_type": "execute_result"
    }
   ],
   "source": [
    "df.room_type.value_counts()"
   ]
  },
  {
   "cell_type": "code",
   "execution_count": null,
   "metadata": {
    "collapsed": true
   },
   "outputs": [],
   "source": [
    "#price has $ attched to it and also .00 at the the end which we need to remove "
   ]
  },
  {
   "cell_type": "code",
   "execution_count": 60,
   "metadata": {},
   "outputs": [],
   "source": [
    "df['price_2'] = df['price'].astype(str).str[1:-3].astype(str)\n",
    "df['price_2']= df['price_2'].astype(str).apply(lambda x: x.replace(',', ''))\n",
    "df['price_2'] = df['price_2'].astype(np.int32)"
   ]
  },
  {
   "cell_type": "code",
   "execution_count": 64,
   "metadata": {},
   "outputs": [
    {
     "data": {
      "text/plain": [
       "0     65\n",
       "1    100\n",
       "2    300\n",
       "3    175\n",
       "4     65\n",
       "Name: price_2, dtype: int32"
      ]
     },
     "execution_count": 64,
     "metadata": {},
     "output_type": "execute_result"
    }
   ],
   "source": [
    "df['price_2'].head()"
   ]
  },
  {
   "cell_type": "code",
   "execution_count": 70,
   "metadata": {},
   "outputs": [
    {
     "data": {
      "text/plain": [
       "count    83850.000000\n",
       "mean       121.656303\n",
       "std        224.900151\n",
       "min          0.000000\n",
       "25%         45.000000\n",
       "50%         81.000000\n",
       "75%        140.000000\n",
       "max      13700.000000\n",
       "Name: price_2, dtype: float64"
      ]
     },
     "execution_count": 70,
     "metadata": {},
     "output_type": "execute_result"
    }
   ],
   "source": [
    "df['price_2'].describe()"
   ]
  },
  {
   "cell_type": "code",
   "execution_count": 72,
   "metadata": {},
   "outputs": [],
   "source": [
    "ps = []\n",
    "\n",
    "for x in df['price_2']:\n",
    "    if x <=45:\n",
    "        ps.append(\"1\")\n",
    "    elif x <=81:\n",
    "        ps.append(\"2\")\n",
    "    elif x <=140:\n",
    "        ps.append(\"3\")\n",
    "    elif x <=200:\n",
    "        ps.append(\"4\")\n",
    "    elif x>200:\n",
    "        ps.append(\"5\")\n",
    "\n",
    "df[\"price_band\"] = ps"
   ]
  },
  {
   "cell_type": "code",
   "execution_count": 73,
   "metadata": {},
   "outputs": [
    {
     "data": {
      "text/plain": [
       "3    21844\n",
       "1    21151\n",
       "2    20831\n",
       "4    10418\n",
       "5     9606\n",
       "Name: price_band, dtype: int64"
      ]
     },
     "execution_count": 73,
     "metadata": {},
     "output_type": "execute_result"
    }
   ],
   "source": [
    "df[\"price_band\"].value_counts()"
   ]
  },
  {
   "cell_type": "code",
   "execution_count": 65,
   "metadata": {},
   "outputs": [
    {
     "data": {
      "text/plain": [
       "34.0"
      ]
     },
     "execution_count": 65,
     "metadata": {},
     "output_type": "execute_result"
    }
   ],
   "source": [
    "df['price_2'].quantile(.12)"
   ]
  },
  {
   "cell_type": "code",
   "execution_count": 69,
   "metadata": {},
   "outputs": [
    {
     "data": {
      "text/plain": [
       "count    83850.000000\n",
       "mean       121.656303\n",
       "std        224.900151\n",
       "min          0.000000\n",
       "25%         45.000000\n",
       "50%         81.000000\n",
       "75%        140.000000\n",
       "max      13700.000000\n",
       "Name: price_2, dtype: float64"
      ]
     },
     "execution_count": 69,
     "metadata": {},
     "output_type": "execute_result"
    }
   ],
   "source": [
    "df['price_2'].describe()"
   ]
  },
  {
   "cell_type": "code",
   "execution_count": null,
   "metadata": {
    "collapsed": true
   },
   "outputs": [],
   "source": [
    "# we have many prices like weekly and monthly prices which can be converted into numerci form by the use of following function "
   ]
  },
  {
   "cell_type": "code",
   "execution_count": 95,
   "metadata": {
    "collapsed": true
   },
   "outputs": [],
   "source": [
    "def dollar_converted(x):\n",
    "    df[x].fillna(0,inplace=True)\n",
    "    df['x2'] = df[x].astype(str).str[1:-3].astype(str)\n",
    "    df['x2']= df['x2'].astype(str).apply(lambda x: x.replace(',', ''))\n",
    "    df['price_2']= df['price_2'].astype(str).apply(lambda x: x.replace('', '999'))\n",
    "    df['x2'] = df['x2'].astype(np.int32)\n",
    "    return(df['x2'])\n",
    "    "
   ]
  },
  {
   "cell_type": "code",
   "execution_count": 104,
   "metadata": {},
   "outputs": [
    {
     "data": {
      "text/plain": [
       "100.0    17642\n",
       "98.0      3906\n",
       "93.0      3691\n",
       "96.0      3638\n",
       "97.0      3598\n",
       "95.0      3362\n",
       "90.0      3226\n",
       "80.0      3219\n",
       "99.0      2453\n",
       "94.0      2293\n",
       "92.0      1811\n",
       "91.0      1651\n",
       "87.0      1472\n",
       "88.0      1288\n",
       "89.0      1254\n",
       "85.0       845\n",
       "60.0       773\n",
       "86.0       686\n",
       "84.0       670\n",
       "83.0       612\n",
       "70.0       357\n",
       "82.0       324\n",
       "73.0       301\n",
       "20.0       272\n",
       "81.0       207\n",
       "40.0       202\n",
       "75.0       181\n",
       "78.0       176\n",
       "76.0       170\n",
       "77.0       145\n",
       "67.0       123\n",
       "79.0       122\n",
       "50.0        78\n",
       "74.0        71\n",
       "72.0        56\n",
       "65.0        55\n",
       "68.0        35\n",
       "71.0        34\n",
       "64.0        27\n",
       "53.0        27\n",
       "69.0        24\n",
       "55.0        16\n",
       "63.0        13\n",
       "47.0        13\n",
       "66.0         9\n",
       "62.0         8\n",
       "30.0         7\n",
       "57.0         4\n",
       "56.0         2\n",
       "52.0         2\n",
       "49.0         2\n",
       "61.0         2\n",
       "51.0         1\n",
       "35.0         1\n",
       "33.0         1\n",
       "45.0         1\n",
       "44.0         1\n",
       "46.0         1\n",
       "Name: review_scores_rating, dtype: int64"
      ]
     },
     "execution_count": 104,
     "metadata": {},
     "output_type": "execute_result"
    }
   ],
   "source": [
    "df[\"review_scores_rating\"].value_counts()"
   ]
  },
  {
   "cell_type": "code",
   "execution_count": null,
   "metadata": {
    "collapsed": true
   },
   "outputs": [],
   "source": []
  },
  {
   "cell_type": "code",
   "execution_count": 102,
   "metadata": {},
   "outputs": [
    {
     "data": {
      "text/plain": [
       "strict_14_with_grace_period    35878\n",
       "flexible                       27126\n",
       "moderate                       19957\n",
       "super_strict_60                  469\n",
       "super_strict_30                  391\n",
       "luxury_moderate                   17\n",
       "strict                             9\n",
       "luxury_super_strict_95             3\n",
       "Name: cancellation_policy, dtype: int64"
      ]
     },
     "execution_count": 102,
     "metadata": {},
     "output_type": "execute_result"
    }
   ],
   "source": [
    "df[\"cancellation_policy\"].value_counts()"
   ]
  },
  {
   "cell_type": "code",
   "execution_count": null,
   "metadata": {
    "collapsed": true
   },
   "outputs": [],
   "source": [
    "df.to_csv(\"listings2.csv\")"
   ]
  },
  {
   "cell_type": "code",
   "execution_count": 106,
   "metadata": {},
   "outputs": [],
   "source": []
  },
  {
   "cell_type": "code",
   "execution_count": 107,
   "metadata": {},
   "outputs": [
    {
     "data": {
      "text/plain": [
       "(13850, 112)"
      ]
     },
     "execution_count": 107,
     "metadata": {},
     "output_type": "execute_result"
    }
   ],
   "source": []
  },
  {
   "cell_type": "markdown",
   "metadata": {},
   "source": [
    "# modelling with XGBOOST"
   ]
  },
  {
   "cell_type": "code",
   "execution_count": null,
   "metadata": {
    "collapsed": true
   },
   "outputs": [],
   "source": [
    "import time\n",
    "start = time.time()\n",
    "import pickle\n",
    "\n",
    "import os\n",
    "os.chdir('Shaique/ProbR/GBM/Adhoc/')\n",
    "os.getcwd()\n",
    "import pandas as pd\n",
    "\n",
    "#splitting inti train and test \n",
    "df = pd.read_csv(\"listings2.csv\")\n",
    "\n",
    "df[:7000].to_csv(\"listings_train.csv\")\n",
    "df[70000:83850].to_csv(\"listings_test.csv\")\n",
    "\n",
    "\n",
    "fields =[\"city_numeric\",\"review_scores_rating\",\"property_numeric\",\"price_2\",,\"minimum_nights\",\"maximum_nights\",\n",
    "         \"minimum_minimum_nights\",\"maximum_minimum_nights\",\"availability_30\",\"availability_60\",\"cubhiseg\",\n",
    "         \"availability_90\",\"availability_365\",\"number_of_reviews\",\"review_scores_rating\",\"review_scores_accuracy\",\"review_scores_cleanliness\"\n",
    "        \"review_scores_checkin\",\"review_scores_communication\",\"review_scores_location\",\"review_scores_value\",\"calculated_host_listings_count\",\n",
    "        \"calculated_host_listings_count_entire_homes\",\"calculated_host_listings_count_private_rooms\",\"calculated_host_listings_count_shared_rooms\",\n",
    "         \"reviews_per_month\",\"accommodates\",\"bathrooms\",\"bedrooms\",\"beds\"]\n",
    "\n",
    "file = pd.read_csv(\"listings_train.csv\",usecols=fields)\n",
    "\n",
    "\n",
    "file.drop(fields,axis=1,inplace=True)\n",
    "\n",
    "print(file.columns)\n",
    "\n",
    "\n",
    "\n",
    "file.fillna(-9999, inplace=True)\n",
    "\n",
    "len(fields)\n",
    "\n",
    "y = pd.DataFrame(file[\"price_2\"])\n",
    "\n",
    "h=pd.DataFrame(file.drop('price_2', axis=1))\n",
    "\n",
    "\n",
    "import xgboost as xgb\n",
    "print(xgb.__version__)\n",
    "\n",
    "dtrain = xgb.DMatrix(h, label=y)\n",
    "\n",
    "param = {\n",
    "    'max_depth': 5,  \n",
    "    'learning_rate': .1,  \n",
    "    'objective':'reg:linear',\n",
    "    'min_child_weight':100,\n",
    "    'num_class' : 5,\n",
    "    'tree_method':'exact'\n",
    "    \n",
    "}\n",
    "\n",
    "print(file.columns)\n",
    "\n",
    "\n",
    "model = xgb.train(param, dtrain,num_boost_round=1500)\n",
    "\n",
    "filename = 'model_xgb_Listings.sav'\n",
    "pickle.dump(model, open(filename, 'wb'))\n",
    "\n",
    "print(file.columns)\n",
    "end = time.time()\n",
    "print(end - start)\n"
   ]
  },
  {
   "cell_type": "markdown",
   "metadata": {},
   "source": [
    "# scoring The XGBOOST"
   ]
  },
  {
   "cell_type": "code",
   "execution_count": null,
   "metadata": {
    "collapsed": true
   },
   "outputs": [],
   "source": [
    "fields =[\"city_numeric\",\"review_scores_rating\",\"property_numeric\",\"price_2\",,\"minimum_nights\",\"maximum_nights\",\n",
    "         \"minimum_minimum_nights\",\"maximum_minimum_nights\",\"availability_30\",\"availability_60\",\"cubhiseg\",\n",
    "         \"availability_90\",\"availability_365\",\"number_of_reviews\",\"review_scores_rating\",\"review_scores_accuracy\",\"review_scores_cleanliness\"\n",
    "        \"review_scores_checkin\",\"review_scores_communication\",\"review_scores_location\",\"review_scores_value\",\"calculated_host_listings_count\",\n",
    "        \"calculated_host_listings_count_entire_homes\",\"calculated_host_listings_count_private_rooms\",\"calculated_host_listings_count_shared_rooms\",\n",
    "         \"reviews_per_month\",\"accommodates\",\"bathrooms\",\"bedrooms\",\"beds\"]\n",
    "\n",
    "file = pd.read_csv(\"listings_test.csv\",usecols=fields)\n",
    "print(file.columns)\n",
    "\n",
    "file.fillna(file.median(), inplace=True)\n",
    "\n",
    "y = pd.DataFrame(file[\"price_2\"])\n",
    "\n",
    "h=pd.DataFrame(file.drop('price_2', axis=1))\n",
    "\n",
    "\n",
    "import xgboost as xgb\n",
    "print(xgb.__version__)\n",
    "\n",
    "dtest = xgb.DMatrix(h, label=y)\n",
    "\n",
    "filename = 'model_xgb_Listings.sav'\n",
    "loaded_model = pickle.load(open(filename, 'rb'))\n",
    "\n",
    "y_pred = loaded_model.predict(dtest,pred_leaf=False)\n",
    "\n",
    "a = list(y_pred)\n",
    "\n",
    "\n",
    "t=pd.DataFrame(y_pred,columns=[\"pred\"])\n",
    "t1 =round(t,2) \n",
    "t1[\"Actual_price\"] = y\n",
    "\n",
    "t1.to_csv(\"Listings_score.csv\",index=False)\n",
    "\n",
    "end = time.time()\n",
    "print(end - start)"
   ]
  },
  {
   "cell_type": "code",
   "execution_count": null,
   "metadata": {
    "collapsed": true
   },
   "outputs": [],
   "source": []
  }
 ],
 "metadata": {
  "kernelspec": {
   "display_name": "Python 3",
   "language": "python",
   "name": "python3"
  },
  "language_info": {
   "codemirror_mode": {
    "name": "ipython",
    "version": 3
   },
   "file_extension": ".py",
   "mimetype": "text/x-python",
   "name": "python",
   "nbconvert_exporter": "python",
   "pygments_lexer": "ipython3",
   "version": "3.5.3"
  }
 },
 "nbformat": 4,
 "nbformat_minor": 2
}
