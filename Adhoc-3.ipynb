{
 "cells": [
  {
   "cell_type": "code",
   "execution_count": 2,
   "metadata": {
    "collapsed": true
   },
   "outputs": [],
   "source": [
    "import numpy as np\n",
    "import os\n",
    "os.chdir('/axp/rim/mldsml/dev/Shaique/ProbR/GBM/Adhoc')\n",
    "os.getcwd()\n",
    "import pandas as pd\n",
    "#from datetime import datetime\n",
    "import numpy as np "
   ]
  },
  {
   "cell_type": "code",
   "execution_count": 34,
   "metadata": {},
   "outputs": [],
   "source": [
    "sms = pd.read_csv(\"Q1_Sms_data_v1.csv\")"
   ]
  },
  {
   "cell_type": "code",
   "execution_count": 51,
   "metadata": {},
   "outputs": [
    {
     "data": {
      "text/html": [
       "<div>\n",
       "<style scoped>\n",
       "    .dataframe tbody tr th:only-of-type {\n",
       "        vertical-align: middle;\n",
       "    }\n",
       "\n",
       "    .dataframe tbody tr th {\n",
       "        vertical-align: top;\n",
       "    }\n",
       "\n",
       "    .dataframe thead th {\n",
       "        text-align: right;\n",
       "    }\n",
       "</style>\n",
       "<table border=\"1\" class=\"dataframe\">\n",
       "  <thead>\n",
       "    <tr style=\"text-align: right;\">\n",
       "      <th></th>\n",
       "      <th>address</th>\n",
       "      <th>body</th>\n",
       "      <th>Date</th>\n",
       "      <th>sms_dt</th>\n",
       "      <th>month</th>\n",
       "      <th>spend_ind</th>\n",
       "      <th>credit_ind</th>\n",
       "      <th>stress_ind</th>\n",
       "      <th>debit_ind</th>\n",
       "      <th>enquiry_ind</th>\n",
       "    </tr>\n",
       "  </thead>\n",
       "  <tbody>\n",
       "    <tr>\n",
       "      <th>15</th>\n",
       "      <td>SBICRD</td>\n",
       "      <td>Dear XYZ, please link your Aadhaar number imme...</td>\n",
       "      <td>3/2/2018 0:00</td>\n",
       "      <td>2018-03-02</td>\n",
       "      <td>3</td>\n",
       "      <td>0.0</td>\n",
       "      <td>0.0</td>\n",
       "      <td>1.0</td>\n",
       "      <td>0.0</td>\n",
       "      <td>0.0</td>\n",
       "    </tr>\n",
       "    <tr>\n",
       "      <th>9</th>\n",
       "      <td>SBIINB</td>\n",
       "      <td>Your AC 4567 Debited INR 12,000.00 on 03/04/18...</td>\n",
       "      <td>3/4/2018 0:00</td>\n",
       "      <td>2018-03-04</td>\n",
       "      <td>3</td>\n",
       "      <td>0.0</td>\n",
       "      <td>0.0</td>\n",
       "      <td>0.0</td>\n",
       "      <td>0.0</td>\n",
       "      <td>0.0</td>\n",
       "    </tr>\n",
       "    <tr>\n",
       "      <th>10</th>\n",
       "      <td>SBICRD</td>\n",
       "      <td>Dear SBI Cardholder, the usage on your card en...</td>\n",
       "      <td>3/4/2018 0:00</td>\n",
       "      <td>2018-03-04</td>\n",
       "      <td>3</td>\n",
       "      <td>0.0</td>\n",
       "      <td>0.0</td>\n",
       "      <td>1.0</td>\n",
       "      <td>0.0</td>\n",
       "      <td>0.0</td>\n",
       "    </tr>\n",
       "    <tr>\n",
       "      <th>3</th>\n",
       "      <td>SBIPSG</td>\n",
       "      <td>Rs.817.00 was spent on your SBI Card ending 99...</td>\n",
       "      <td>30/03/18</td>\n",
       "      <td>2018-03-30</td>\n",
       "      <td>3</td>\n",
       "      <td>1.0</td>\n",
       "      <td>0.0</td>\n",
       "      <td>0.0</td>\n",
       "      <td>0.0</td>\n",
       "      <td>0.0</td>\n",
       "    </tr>\n",
       "    <tr>\n",
       "      <th>4</th>\n",
       "      <td>CBSSBI</td>\n",
       "      <td>INR 9,173.00 credited to your A/c No 1234 on 1...</td>\n",
       "      <td>17/04/18</td>\n",
       "      <td>2018-04-17</td>\n",
       "      <td>4</td>\n",
       "      <td>0.0</td>\n",
       "      <td>1.0</td>\n",
       "      <td>0.0</td>\n",
       "      <td>0.0</td>\n",
       "      <td>0.0</td>\n",
       "    </tr>\n",
       "    <tr>\n",
       "      <th>6</th>\n",
       "      <td>CBSSBI</td>\n",
       "      <td>INR 500.00 credited to your A/c No 1234 on 17/...</td>\n",
       "      <td>17/04/18</td>\n",
       "      <td>2018-04-17</td>\n",
       "      <td>4</td>\n",
       "      <td>0.0</td>\n",
       "      <td>1.0</td>\n",
       "      <td>0.0</td>\n",
       "      <td>0.0</td>\n",
       "      <td>0.0</td>\n",
       "    </tr>\n",
       "    <tr>\n",
       "      <th>13</th>\n",
       "      <td>SBICRD</td>\n",
       "      <td>Dear abc, processing of your KYC documents is ...</td>\n",
       "      <td>17/04/18</td>\n",
       "      <td>2018-04-17</td>\n",
       "      <td>4</td>\n",
       "      <td>0.0</td>\n",
       "      <td>0.0</td>\n",
       "      <td>0.0</td>\n",
       "      <td>0.0</td>\n",
       "      <td>1.0</td>\n",
       "    </tr>\n",
       "    <tr>\n",
       "      <th>7</th>\n",
       "      <td>SBIINB</td>\n",
       "      <td>Your AC 1234 Debited INR 64.42 on 22/04/18 -SM...</td>\n",
       "      <td>22/04/18</td>\n",
       "      <td>2018-04-22</td>\n",
       "      <td>4</td>\n",
       "      <td>0.0</td>\n",
       "      <td>0.0</td>\n",
       "      <td>0.0</td>\n",
       "      <td>0.0</td>\n",
       "      <td>0.0</td>\n",
       "    </tr>\n",
       "    <tr>\n",
       "      <th>12</th>\n",
       "      <td>SBIRWZ</td>\n",
       "      <td>Dear applicant, Thank you for showing interest...</td>\n",
       "      <td>22/04/18</td>\n",
       "      <td>2018-04-22</td>\n",
       "      <td>4</td>\n",
       "      <td>0.0</td>\n",
       "      <td>0.0</td>\n",
       "      <td>0.0</td>\n",
       "      <td>0.0</td>\n",
       "      <td>1.0</td>\n",
       "    </tr>\n",
       "    <tr>\n",
       "      <th>5</th>\n",
       "      <td>CBSSBI</td>\n",
       "      <td>INR 8,000.00 credited to your A/c No 4567 on 2...</td>\n",
       "      <td>24/04/18</td>\n",
       "      <td>2018-04-24</td>\n",
       "      <td>4</td>\n",
       "      <td>0.0</td>\n",
       "      <td>1.0</td>\n",
       "      <td>0.0</td>\n",
       "      <td>0.0</td>\n",
       "      <td>0.0</td>\n",
       "    </tr>\n",
       "    <tr>\n",
       "      <th>14</th>\n",
       "      <td>SBICRD</td>\n",
       "      <td>290/39020202 (prefix local STD code) or simply...</td>\n",
       "      <td>24/04/18</td>\n",
       "      <td>2018-04-24</td>\n",
       "      <td>4</td>\n",
       "      <td>0.0</td>\n",
       "      <td>0.0</td>\n",
       "      <td>0.0</td>\n",
       "      <td>0.0</td>\n",
       "      <td>0.0</td>\n",
       "    </tr>\n",
       "    <tr>\n",
       "      <th>8</th>\n",
       "      <td>SBIINB</td>\n",
       "      <td>Your AC 1234 Debited INR 9.00 on 25/04/18 -SMS...</td>\n",
       "      <td>25/04/18</td>\n",
       "      <td>2018-04-25</td>\n",
       "      <td>4</td>\n",
       "      <td>0.0</td>\n",
       "      <td>0.0</td>\n",
       "      <td>0.0</td>\n",
       "      <td>0.0</td>\n",
       "      <td>0.0</td>\n",
       "    </tr>\n",
       "    <tr>\n",
       "      <th>11</th>\n",
       "      <td>SBICRD</td>\n",
       "      <td>Dear SBI Cardholder, your card payment is over...</td>\n",
       "      <td>25/04/18</td>\n",
       "      <td>2018-04-25</td>\n",
       "      <td>4</td>\n",
       "      <td>0.0</td>\n",
       "      <td>0.0</td>\n",
       "      <td>1.0</td>\n",
       "      <td>0.0</td>\n",
       "      <td>0.0</td>\n",
       "    </tr>\n",
       "    <tr>\n",
       "      <th>2</th>\n",
       "      <td>SBIPSG</td>\n",
       "      <td>Rs.199.00 was spent on your SBI Card ending 88...</td>\n",
       "      <td>14/05/18</td>\n",
       "      <td>2018-05-14</td>\n",
       "      <td>5</td>\n",
       "      <td>1.0</td>\n",
       "      <td>0.0</td>\n",
       "      <td>0.0</td>\n",
       "      <td>0.0</td>\n",
       "      <td>0.0</td>\n",
       "    </tr>\n",
       "    <tr>\n",
       "      <th>0</th>\n",
       "      <td>SBIPSG</td>\n",
       "      <td>Rs.200.00 was spent on your SBI Card ending 88...</td>\n",
       "      <td>27/05/18</td>\n",
       "      <td>2018-05-27</td>\n",
       "      <td>5</td>\n",
       "      <td>1.0</td>\n",
       "      <td>0.0</td>\n",
       "      <td>0.0</td>\n",
       "      <td>0.0</td>\n",
       "      <td>0.0</td>\n",
       "    </tr>\n",
       "    <tr>\n",
       "      <th>17</th>\n",
       "      <td>SBICRD</td>\n",
       "      <td>681498 is your OTP for online transaction on y...</td>\n",
       "      <td>27/05/18</td>\n",
       "      <td>2018-05-27</td>\n",
       "      <td>5</td>\n",
       "      <td>0.0</td>\n",
       "      <td>0.0</td>\n",
       "      <td>0.0</td>\n",
       "      <td>0.0</td>\n",
       "      <td>0.0</td>\n",
       "    </tr>\n",
       "    <tr>\n",
       "      <th>1</th>\n",
       "      <td>SBIPSG</td>\n",
       "      <td>Rs.1,697.00 was spent on your SBI Card ending ...</td>\n",
       "      <td>9/4/2018 0:00</td>\n",
       "      <td>2018-09-04</td>\n",
       "      <td>9</td>\n",
       "      <td>1.0</td>\n",
       "      <td>0.0</td>\n",
       "      <td>0.0</td>\n",
       "      <td>0.0</td>\n",
       "      <td>0.0</td>\n",
       "    </tr>\n",
       "    <tr>\n",
       "      <th>16</th>\n",
       "      <td>SBICRD</td>\n",
       "      <td>Pay your credit card outstanding with YONO by ...</td>\n",
       "      <td>9/4/2018 0:00</td>\n",
       "      <td>2018-09-04</td>\n",
       "      <td>9</td>\n",
       "      <td>0.0</td>\n",
       "      <td>0.0</td>\n",
       "      <td>0.0</td>\n",
       "      <td>0.0</td>\n",
       "      <td>0.0</td>\n",
       "    </tr>\n",
       "  </tbody>\n",
       "</table>\n",
       "</div>"
      ],
      "text/plain": [
       "   address                                               body           Date  \\\n",
       "15  SBICRD  Dear XYZ, please link your Aadhaar number imme...  3/2/2018 0:00   \n",
       "9   SBIINB  Your AC 4567 Debited INR 12,000.00 on 03/04/18...  3/4/2018 0:00   \n",
       "10  SBICRD  Dear SBI Cardholder, the usage on your card en...  3/4/2018 0:00   \n",
       "3   SBIPSG  Rs.817.00 was spent on your SBI Card ending 99...       30/03/18   \n",
       "4   CBSSBI  INR 9,173.00 credited to your A/c No 1234 on 1...       17/04/18   \n",
       "6   CBSSBI  INR 500.00 credited to your A/c No 1234 on 17/...       17/04/18   \n",
       "13  SBICRD  Dear abc, processing of your KYC documents is ...       17/04/18   \n",
       "7   SBIINB  Your AC 1234 Debited INR 64.42 on 22/04/18 -SM...       22/04/18   \n",
       "12  SBIRWZ  Dear applicant, Thank you for showing interest...       22/04/18   \n",
       "5   CBSSBI  INR 8,000.00 credited to your A/c No 4567 on 2...       24/04/18   \n",
       "14  SBICRD  290/39020202 (prefix local STD code) or simply...       24/04/18   \n",
       "8   SBIINB  Your AC 1234 Debited INR 9.00 on 25/04/18 -SMS...       25/04/18   \n",
       "11  SBICRD  Dear SBI Cardholder, your card payment is over...       25/04/18   \n",
       "2   SBIPSG  Rs.199.00 was spent on your SBI Card ending 88...       14/05/18   \n",
       "0   SBIPSG  Rs.200.00 was spent on your SBI Card ending 88...       27/05/18   \n",
       "17  SBICRD  681498 is your OTP for online transaction on y...       27/05/18   \n",
       "1   SBIPSG  Rs.1,697.00 was spent on your SBI Card ending ...  9/4/2018 0:00   \n",
       "16  SBICRD  Pay your credit card outstanding with YONO by ...  9/4/2018 0:00   \n",
       "\n",
       "       sms_dt  month  spend_ind  credit_ind  stress_ind  debit_ind  \\\n",
       "15 2018-03-02      3        0.0         0.0         1.0        0.0   \n",
       "9  2018-03-04      3        0.0         0.0         0.0        0.0   \n",
       "10 2018-03-04      3        0.0         0.0         1.0        0.0   \n",
       "3  2018-03-30      3        1.0         0.0         0.0        0.0   \n",
       "4  2018-04-17      4        0.0         1.0         0.0        0.0   \n",
       "6  2018-04-17      4        0.0         1.0         0.0        0.0   \n",
       "13 2018-04-17      4        0.0         0.0         0.0        0.0   \n",
       "7  2018-04-22      4        0.0         0.0         0.0        0.0   \n",
       "12 2018-04-22      4        0.0         0.0         0.0        0.0   \n",
       "5  2018-04-24      4        0.0         1.0         0.0        0.0   \n",
       "14 2018-04-24      4        0.0         0.0         0.0        0.0   \n",
       "8  2018-04-25      4        0.0         0.0         0.0        0.0   \n",
       "11 2018-04-25      4        0.0         0.0         1.0        0.0   \n",
       "2  2018-05-14      5        1.0         0.0         0.0        0.0   \n",
       "0  2018-05-27      5        1.0         0.0         0.0        0.0   \n",
       "17 2018-05-27      5        0.0         0.0         0.0        0.0   \n",
       "1  2018-09-04      9        1.0         0.0         0.0        0.0   \n",
       "16 2018-09-04      9        0.0         0.0         0.0        0.0   \n",
       "\n",
       "    enquiry_ind  \n",
       "15          0.0  \n",
       "9           0.0  \n",
       "10          0.0  \n",
       "3           0.0  \n",
       "4           0.0  \n",
       "6           0.0  \n",
       "13          1.0  \n",
       "7           0.0  \n",
       "12          1.0  \n",
       "5           0.0  \n",
       "14          0.0  \n",
       "8           0.0  \n",
       "11          0.0  \n",
       "2           0.0  \n",
       "0           0.0  \n",
       "17          0.0  \n",
       "1           0.0  \n",
       "16          0.0  "
      ]
     },
     "execution_count": 51,
     "metadata": {},
     "output_type": "execute_result"
    }
   ],
   "source": [
    "sms"
   ]
  },
  {
   "cell_type": "code",
   "execution_count": 36,
   "metadata": {},
   "outputs": [],
   "source": [
    "sms[\"sms_dt\"] = pd.to_datetime(sms[\"Date\"])"
   ]
  },
  {
   "cell_type": "code",
   "execution_count": 37,
   "metadata": {
    "collapsed": true
   },
   "outputs": [],
   "source": [
    "sms.sort_values(by=['sms_dt'],inplace=True)"
   ]
  },
  {
   "cell_type": "code",
   "execution_count": 38,
   "metadata": {
    "collapsed": true
   },
   "outputs": [],
   "source": [
    "# lets create a month indicator"
   ]
  },
  {
   "cell_type": "code",
   "execution_count": 39,
   "metadata": {
    "collapsed": true
   },
   "outputs": [],
   "source": [
    "sms[\"month\"] = sms[\"sms_dt\"].apply(lambda x: x.month)"
   ]
  },
  {
   "cell_type": "code",
   "execution_count": 40,
   "metadata": {},
   "outputs": [],
   "source": [
    "new_df = sms[sms['body'].str.contains('spent', na=False)]"
   ]
  },
  {
   "cell_type": "code",
   "execution_count": 41,
   "metadata": {
    "collapsed": true
   },
   "outputs": [],
   "source": [
    "#creating Spend indicator based on wheater there was spet word in the sma or not"
   ]
  },
  {
   "cell_type": "code",
   "execution_count": 42,
   "metadata": {
    "collapsed": true
   },
   "outputs": [],
   "source": [
    "sms.loc[(sms.body.str.contains('spent', na=False)),'spend_ind']=1\n",
    "sms.loc[(~sms.body.str.contains('spent', na=False)),'spend_ind']=0"
   ]
  },
  {
   "cell_type": "code",
   "execution_count": 43,
   "metadata": {
    "collapsed": true
   },
   "outputs": [],
   "source": [
    "#creating credit indicator based on wheater there was spet word in the sma or not"
   ]
  },
  {
   "cell_type": "code",
   "execution_count": 44,
   "metadata": {},
   "outputs": [],
   "source": [
    "sms.loc[(sms.body.str.contains('credited', na=False)),'credit_ind']=1\n",
    "sms.loc[(~sms.body.str.contains('credited', na=False)),'credit_ind']=0"
   ]
  },
  {
   "cell_type": "code",
   "execution_count": 45,
   "metadata": {
    "collapsed": true
   },
   "outputs": [],
   "source": [
    "#creating stress indicators froma credit card message"
   ]
  },
  {
   "cell_type": "code",
   "execution_count": 46,
   "metadata": {},
   "outputs": [],
   "source": [
    "\n",
    "sms.loc[(sms.body.str.contains(\"exceeded|immediate|overdue\", na=False)),'stress_ind']=1\n",
    "sms.loc[(~sms.body.str.contains(\"exceeded|immediate|overdue\", na=False)),'stress_ind']=0\n"
   ]
  },
  {
   "cell_type": "code",
   "execution_count": 47,
   "metadata": {
    "collapsed": true
   },
   "outputs": [],
   "source": [
    "#creating debit indicator"
   ]
  },
  {
   "cell_type": "code",
   "execution_count": 48,
   "metadata": {
    "collapsed": true
   },
   "outputs": [],
   "source": [
    "sms.loc[(sms.body.str.contains(\"debited\", na=False)),'debit_ind']=1\n",
    "sms.loc[(~sms.body.str.contains(\"debited\", na=False)),'debit_ind']=0\n"
   ]
  },
  {
   "cell_type": "code",
   "execution_count": 49,
   "metadata": {
    "collapsed": true
   },
   "outputs": [],
   "source": [
    "#new application/enquiry indicator\n"
   ]
  },
  {
   "cell_type": "code",
   "execution_count": 50,
   "metadata": {
    "collapsed": true
   },
   "outputs": [],
   "source": [
    "sms.loc[(sms.body.str.contains(\"applicant|KYC\", na=False)),'enquiry_ind']=1\n",
    "sms.loc[(~sms.body.str.contains(\"applicant|KYC\", na=False)),'enquiry_ind']=0"
   ]
  },
  {
   "cell_type": "markdown",
   "metadata": {},
   "source": [
    "# features"
   ]
  },
  {
   "cell_type": "code",
   "execution_count": 53,
   "metadata": {
    "collapsed": true
   },
   "outputs": [],
   "source": [
    "total_enquiry_last_six_months=sum(sms.enquiry_ind)\n",
    "total_spend_last_six_months=sum(sms.spend_ind)\n",
    "total_credit_last_six_months=sum(sms.credit_ind)\n",
    "total_stress_last_six_months=sum(sms.stress_ind)\n",
    "total_debit_last_six_months=sum(sms.debit_ind)\n"
   ]
  },
  {
   "cell_type": "code",
   "execution_count": null,
   "metadata": {
    "collapsed": true
   },
   "outputs": [],
   "source": []
  }
 ],
 "metadata": {
  "kernelspec": {
   "display_name": "Python 3",
   "language": "python",
   "name": "python3"
  },
  "language_info": {
   "codemirror_mode": {
    "name": "ipython",
    "version": 3
   },
   "file_extension": ".py",
   "mimetype": "text/x-python",
   "name": "python",
   "nbconvert_exporter": "python",
   "pygments_lexer": "ipython3",
   "version": "3.5.3"
  }
 },
 "nbformat": 4,
 "nbformat_minor": 2
}
