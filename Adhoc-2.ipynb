{
 "cells": [
  {
   "cell_type": "code",
   "execution_count": 1,
   "metadata": {
    "collapsed": true
   },
   "outputs": [],
   "source": [
    "import numpy as np\n",
    "import os\n",
    "os.chdir('/axp/rim/mldsml/dev/Shaique/ProbR/GBM/Adhoc')\n",
    "os.getcwd()\n",
    "import pandas as pd\n",
    "#from datetime import datetime\n",
    "import numpy as np "
   ]
  },
  {
   "cell_type": "code",
   "execution_count": 249,
   "metadata": {
    "collapsed": true
   },
   "outputs": [],
   "source": [
    "df = pd.read_excel(\"Q2_modeling_data.xlsx\")"
   ]
  },
  {
   "cell_type": "markdown",
   "metadata": {},
   "source": [
    "# data treatment"
   ]
  },
  {
   "cell_type": "code",
   "execution_count": 251,
   "metadata": {},
   "outputs": [
    {
     "data": {
      "text/html": [
       "<div>\n",
       "<style scoped>\n",
       "    .dataframe tbody tr th:only-of-type {\n",
       "        vertical-align: middle;\n",
       "    }\n",
       "\n",
       "    .dataframe tbody tr th {\n",
       "        vertical-align: top;\n",
       "    }\n",
       "\n",
       "    .dataframe thead th {\n",
       "        text-align: right;\n",
       "    }\n",
       "</style>\n",
       "<table border=\"1\" class=\"dataframe\">\n",
       "  <thead>\n",
       "    <tr style=\"text-align: right;\">\n",
       "      <th></th>\n",
       "      <th>ref_var</th>\n",
       "      <th>bad_var</th>\n",
       "      <th>Net_debits_last_1_month</th>\n",
       "      <th>Net_credits_last_1_month</th>\n",
       "      <th>Balance_of_outstanding_loans_last_1_month</th>\n",
       "      <th>loan_enquiries_last_1_month</th>\n",
       "      <th>overdue_on_outstanding_loans_last_1_month</th>\n",
       "      <th>age</th>\n",
       "      <th>monthly_salary</th>\n",
       "      <th>number_of_bank_accounts</th>\n",
       "      <th>married_indicator</th>\n",
       "      <th>day_of_application</th>\n",
       "      <th>levelofeducation_v1</th>\n",
       "      <th>state</th>\n",
       "    </tr>\n",
       "  </thead>\n",
       "  <tbody>\n",
       "    <tr>\n",
       "      <th>0</th>\n",
       "      <td>1234</td>\n",
       "      <td>1</td>\n",
       "      <td>589.26</td>\n",
       "      <td>2998.00</td>\n",
       "      <td>0.0</td>\n",
       "      <td>0</td>\n",
       "      <td>0.000000</td>\n",
       "      <td>24</td>\n",
       "      <td>25452.86</td>\n",
       "      <td>1.0</td>\n",
       "      <td>0</td>\n",
       "      <td>Friday</td>\n",
       "      <td>Post Graduate</td>\n",
       "      <td>Delhi</td>\n",
       "    </tr>\n",
       "    <tr>\n",
       "      <th>1</th>\n",
       "      <td>1235</td>\n",
       "      <td>0</td>\n",
       "      <td>9700.00</td>\n",
       "      <td>NaN</td>\n",
       "      <td>89201.0</td>\n",
       "      <td>4</td>\n",
       "      <td>0.000000</td>\n",
       "      <td>43</td>\n",
       "      <td>11000.00</td>\n",
       "      <td>1.0</td>\n",
       "      <td>0</td>\n",
       "      <td>Friday</td>\n",
       "      <td>12th Pass</td>\n",
       "      <td>Madhya Pradesh</td>\n",
       "    </tr>\n",
       "    <tr>\n",
       "      <th>2</th>\n",
       "      <td>1236</td>\n",
       "      <td>0</td>\n",
       "      <td>11951.00</td>\n",
       "      <td>8791.75</td>\n",
       "      <td>NaN</td>\n",
       "      <td>18</td>\n",
       "      <td>NaN</td>\n",
       "      <td>20</td>\n",
       "      <td>4351.00</td>\n",
       "      <td>2.0</td>\n",
       "      <td>0</td>\n",
       "      <td>Monday</td>\n",
       "      <td>12th Pass</td>\n",
       "      <td>Telangana</td>\n",
       "    </tr>\n",
       "    <tr>\n",
       "      <th>3</th>\n",
       "      <td>1237</td>\n",
       "      <td>0</td>\n",
       "      <td>28228.00</td>\n",
       "      <td>17154.15</td>\n",
       "      <td>19346.0</td>\n",
       "      <td>15</td>\n",
       "      <td>8721.644826</td>\n",
       "      <td>28</td>\n",
       "      <td>25000.00</td>\n",
       "      <td>1.0</td>\n",
       "      <td>0</td>\n",
       "      <td>Wednesday</td>\n",
       "      <td>Graduate</td>\n",
       "      <td>Telangana</td>\n",
       "    </tr>\n",
       "    <tr>\n",
       "      <th>4</th>\n",
       "      <td>1238</td>\n",
       "      <td>0</td>\n",
       "      <td>8770.00</td>\n",
       "      <td>775.00</td>\n",
       "      <td>0.0</td>\n",
       "      <td>0</td>\n",
       "      <td>0.000000</td>\n",
       "      <td>22</td>\n",
       "      <td>12647.00</td>\n",
       "      <td>1.0</td>\n",
       "      <td>0</td>\n",
       "      <td>Monday</td>\n",
       "      <td>Graduate</td>\n",
       "      <td>Telangana</td>\n",
       "    </tr>\n",
       "  </tbody>\n",
       "</table>\n",
       "</div>"
      ],
      "text/plain": [
       "   ref_var  bad_var  Net_debits_last_1_month  Net_credits_last_1_month  \\\n",
       "0     1234        1                   589.26                   2998.00   \n",
       "1     1235        0                  9700.00                       NaN   \n",
       "2     1236        0                 11951.00                   8791.75   \n",
       "3     1237        0                 28228.00                  17154.15   \n",
       "4     1238        0                  8770.00                    775.00   \n",
       "\n",
       "   Balance_of_outstanding_loans_last_1_month  loan_enquiries_last_1_month  \\\n",
       "0                                        0.0                            0   \n",
       "1                                    89201.0                            4   \n",
       "2                                        NaN                           18   \n",
       "3                                    19346.0                           15   \n",
       "4                                        0.0                            0   \n",
       "\n",
       "   overdue_on_outstanding_loans_last_1_month  age  monthly_salary  \\\n",
       "0                                   0.000000   24        25452.86   \n",
       "1                                   0.000000   43        11000.00   \n",
       "2                                        NaN   20         4351.00   \n",
       "3                                8721.644826   28        25000.00   \n",
       "4                                   0.000000   22        12647.00   \n",
       "\n",
       "   number_of_bank_accounts  married_indicator day_of_application  \\\n",
       "0                      1.0                  0             Friday   \n",
       "1                      1.0                  0             Friday   \n",
       "2                      2.0                  0             Monday   \n",
       "3                      1.0                  0          Wednesday   \n",
       "4                      1.0                  0             Monday   \n",
       "\n",
       "  levelofeducation_v1           state  \n",
       "0       Post Graduate           Delhi  \n",
       "1           12th Pass  Madhya Pradesh  \n",
       "2           12th Pass       Telangana  \n",
       "3            Graduate       Telangana  \n",
       "4            Graduate       Telangana  "
      ]
     },
     "execution_count": 251,
     "metadata": {},
     "output_type": "execute_result"
    }
   ],
   "source": [
    "df.head()"
   ]
  },
  {
   "cell_type": "code",
   "execution_count": 252,
   "metadata": {},
   "outputs": [
    {
     "data": {
      "text/plain": [
       "(579, 14)"
      ]
     },
     "execution_count": 252,
     "metadata": {},
     "output_type": "execute_result"
    }
   ],
   "source": [
    "df.shape"
   ]
  },
  {
   "cell_type": "code",
   "execution_count": 253,
   "metadata": {},
   "outputs": [
    {
     "data": {
      "text/plain": [
       "12th Pass         165\n",
       "10th Pass         140\n",
       "Graduate          127\n",
       "less than 10th     79\n",
       "Diploma            43\n",
       "Post Graduate      25\n",
       "Name: levelofeducation_v1, dtype: int64"
      ]
     },
     "execution_count": 253,
     "metadata": {},
     "output_type": "execute_result"
    }
   ],
   "source": [
    "df.levelofeducation_v1.value_counts()"
   ]
  },
  {
   "cell_type": "code",
   "execution_count": 254,
   "metadata": {},
   "outputs": [
    {
     "data": {
      "text/plain": [
       "Karnataka         175\n",
       "Telangana         127\n",
       "Maharashtra        92\n",
       "Tamil Nadu         37\n",
       "Delhi              30\n",
       "Rajasthan          22\n",
       "Gujarat            20\n",
       "West Bengal        20\n",
       "Uttar Pradesh      12\n",
       "Kerala              8\n",
       "Andhra Pradesh      8\n",
       "Haryana             7\n",
       "Orissa              6\n",
       "Not_Available       5\n",
       "Madhya Pradesh      4\n",
       "Punjab              3\n",
       "Assam               2\n",
       "Bihar               1\n",
       "Name: state, dtype: int64"
      ]
     },
     "execution_count": 254,
     "metadata": {},
     "output_type": "execute_result"
    }
   ],
   "source": [
    "df.state.value_counts()"
   ]
  },
  {
   "cell_type": "code",
   "execution_count": 255,
   "metadata": {
    "collapsed": true
   },
   "outputs": [],
   "source": [
    "#defining a fucntion to replace categorical variables with default rates of the catogories present in them"
   ]
  },
  {
   "cell_type": "code",
   "execution_count": 256,
   "metadata": {
    "collapsed": true
   },
   "outputs": [],
   "source": [
    "def categorical_treator(col,data):\n",
    "    value_dict={}\n",
    "    j=list(data[col].unique())\n",
    "    for vals in j:\n",
    "        print(vals)\n",
    "        df2=data[data[col]==vals]\n",
    "        m=df2.bad_var.mean()\n",
    "        value_dict.update({vals :m} )\n",
    "    data=data.replace({col: value_dict})    \n",
    "    return data"
   ]
  },
  {
   "cell_type": "code",
   "execution_count": null,
   "metadata": {
    "collapsed": true
   },
   "outputs": [],
   "source": [
    "df=categorical_treator(\"levelofeducation_v1\",df)\n",
    "df=categorical_treator(\"day_of_application\",df)\n",
    "df=categorical_treator(\"state\",df)"
   ]
  },
  {
   "cell_type": "code",
   "execution_count": null,
   "metadata": {
    "collapsed": true
   },
   "outputs": [],
   "source": [
    "#doing the missing value Transformation"
   ]
  },
  {
   "cell_type": "code",
   "execution_count": 259,
   "metadata": {
    "collapsed": true
   },
   "outputs": [],
   "source": [
    "for x in df.columns:\n",
    "    df[x].fillna(df[x].mean(),inplace=True)\n"
   ]
  },
  {
   "cell_type": "code",
   "execution_count": 260,
   "metadata": {},
   "outputs": [
    {
     "data": {
      "text/html": [
       "<div>\n",
       "<style scoped>\n",
       "    .dataframe tbody tr th:only-of-type {\n",
       "        vertical-align: middle;\n",
       "    }\n",
       "\n",
       "    .dataframe tbody tr th {\n",
       "        vertical-align: top;\n",
       "    }\n",
       "\n",
       "    .dataframe thead th {\n",
       "        text-align: right;\n",
       "    }\n",
       "</style>\n",
       "<table border=\"1\" class=\"dataframe\">\n",
       "  <thead>\n",
       "    <tr style=\"text-align: right;\">\n",
       "      <th></th>\n",
       "      <th>ref_var</th>\n",
       "      <th>bad_var</th>\n",
       "      <th>Net_debits_last_1_month</th>\n",
       "      <th>Net_credits_last_1_month</th>\n",
       "      <th>Balance_of_outstanding_loans_last_1_month</th>\n",
       "      <th>loan_enquiries_last_1_month</th>\n",
       "      <th>overdue_on_outstanding_loans_last_1_month</th>\n",
       "      <th>age</th>\n",
       "      <th>monthly_salary</th>\n",
       "      <th>number_of_bank_accounts</th>\n",
       "      <th>married_indicator</th>\n",
       "      <th>day_of_application</th>\n",
       "      <th>levelofeducation_v1</th>\n",
       "      <th>state</th>\n",
       "    </tr>\n",
       "  </thead>\n",
       "  <tbody>\n",
       "    <tr>\n",
       "      <th>0</th>\n",
       "      <td>1234</td>\n",
       "      <td>1</td>\n",
       "      <td>589.26</td>\n",
       "      <td>2998.000000</td>\n",
       "      <td>0.000000</td>\n",
       "      <td>0</td>\n",
       "      <td>0.000000</td>\n",
       "      <td>24</td>\n",
       "      <td>25452.86</td>\n",
       "      <td>1.0</td>\n",
       "      <td>0</td>\n",
       "      <td>0.436782</td>\n",
       "      <td>0.440000</td>\n",
       "      <td>0.366667</td>\n",
       "    </tr>\n",
       "    <tr>\n",
       "      <th>1</th>\n",
       "      <td>1235</td>\n",
       "      <td>0</td>\n",
       "      <td>9700.00</td>\n",
       "      <td>9678.138141</td>\n",
       "      <td>89201.000000</td>\n",
       "      <td>4</td>\n",
       "      <td>0.000000</td>\n",
       "      <td>43</td>\n",
       "      <td>11000.00</td>\n",
       "      <td>1.0</td>\n",
       "      <td>0</td>\n",
       "      <td>0.436782</td>\n",
       "      <td>0.393939</td>\n",
       "      <td>0.250000</td>\n",
       "    </tr>\n",
       "    <tr>\n",
       "      <th>2</th>\n",
       "      <td>1236</td>\n",
       "      <td>0</td>\n",
       "      <td>11951.00</td>\n",
       "      <td>8791.750000</td>\n",
       "      <td>14048.350271</td>\n",
       "      <td>18</td>\n",
       "      <td>3764.460688</td>\n",
       "      <td>20</td>\n",
       "      <td>4351.00</td>\n",
       "      <td>2.0</td>\n",
       "      <td>0</td>\n",
       "      <td>0.405063</td>\n",
       "      <td>0.393939</td>\n",
       "      <td>0.464567</td>\n",
       "    </tr>\n",
       "    <tr>\n",
       "      <th>3</th>\n",
       "      <td>1237</td>\n",
       "      <td>0</td>\n",
       "      <td>28228.00</td>\n",
       "      <td>17154.150000</td>\n",
       "      <td>19346.000000</td>\n",
       "      <td>15</td>\n",
       "      <td>8721.644826</td>\n",
       "      <td>28</td>\n",
       "      <td>25000.00</td>\n",
       "      <td>1.0</td>\n",
       "      <td>0</td>\n",
       "      <td>0.443299</td>\n",
       "      <td>0.433071</td>\n",
       "      <td>0.464567</td>\n",
       "    </tr>\n",
       "    <tr>\n",
       "      <th>4</th>\n",
       "      <td>1238</td>\n",
       "      <td>0</td>\n",
       "      <td>8770.00</td>\n",
       "      <td>775.000000</td>\n",
       "      <td>0.000000</td>\n",
       "      <td>0</td>\n",
       "      <td>0.000000</td>\n",
       "      <td>22</td>\n",
       "      <td>12647.00</td>\n",
       "      <td>1.0</td>\n",
       "      <td>0</td>\n",
       "      <td>0.405063</td>\n",
       "      <td>0.433071</td>\n",
       "      <td>0.464567</td>\n",
       "    </tr>\n",
       "  </tbody>\n",
       "</table>\n",
       "</div>"
      ],
      "text/plain": [
       "   ref_var  bad_var  Net_debits_last_1_month  Net_credits_last_1_month  \\\n",
       "0     1234        1                   589.26               2998.000000   \n",
       "1     1235        0                  9700.00               9678.138141   \n",
       "2     1236        0                 11951.00               8791.750000   \n",
       "3     1237        0                 28228.00              17154.150000   \n",
       "4     1238        0                  8770.00                775.000000   \n",
       "\n",
       "   Balance_of_outstanding_loans_last_1_month  loan_enquiries_last_1_month  \\\n",
       "0                                   0.000000                            0   \n",
       "1                               89201.000000                            4   \n",
       "2                               14048.350271                           18   \n",
       "3                               19346.000000                           15   \n",
       "4                                   0.000000                            0   \n",
       "\n",
       "   overdue_on_outstanding_loans_last_1_month  age  monthly_salary  \\\n",
       "0                                   0.000000   24        25452.86   \n",
       "1                                   0.000000   43        11000.00   \n",
       "2                                3764.460688   20         4351.00   \n",
       "3                                8721.644826   28        25000.00   \n",
       "4                                   0.000000   22        12647.00   \n",
       "\n",
       "   number_of_bank_accounts  married_indicator  day_of_application  \\\n",
       "0                      1.0                  0            0.436782   \n",
       "1                      1.0                  0            0.436782   \n",
       "2                      2.0                  0            0.405063   \n",
       "3                      1.0                  0            0.443299   \n",
       "4                      1.0                  0            0.405063   \n",
       "\n",
       "   levelofeducation_v1     state  \n",
       "0             0.440000  0.366667  \n",
       "1             0.393939  0.250000  \n",
       "2             0.393939  0.464567  \n",
       "3             0.433071  0.464567  \n",
       "4             0.433071  0.464567  "
      ]
     },
     "execution_count": 260,
     "metadata": {},
     "output_type": "execute_result"
    }
   ],
   "source": [
    "df.head()"
   ]
  },
  {
   "cell_type": "markdown",
   "metadata": {},
   "source": [
    "# creating derived variables"
   ]
  },
  {
   "cell_type": "code",
   "execution_count": 261,
   "metadata": {
    "collapsed": true
   },
   "outputs": [],
   "source": [
    "df[\"overdue_last_month/monthly_sal\"] = df[\"overdue_on_outstanding_loans_last_1_month\"]/df[\"monthly_salary\"]"
   ]
  },
  {
   "cell_type": "code",
   "execution_count": 275,
   "metadata": {
    "collapsed": true
   },
   "outputs": [],
   "source": [
    "df[\"debit/credit\"] = df[\"Net_debits_last_1_month\"]-df[\"Net_credits_last_1_month\"]"
   ]
  },
  {
   "cell_type": "code",
   "execution_count": 278,
   "metadata": {
    "collapsed": true
   },
   "outputs": [],
   "source": [
    "df[\"loan/salary\"]=df[\"Balance_of_outstanding_loans_last_1_month\"]/df[\"monthly_salary\"]"
   ]
  },
  {
   "cell_type": "code",
   "execution_count": 286,
   "metadata": {
    "collapsed": true
   },
   "outputs": [],
   "source": [
    "df[\"age/salary\"] = df[\"age\"]/df[\"monthly_salary\"]"
   ]
  },
  {
   "cell_type": "code",
   "execution_count": 289,
   "metadata": {
    "collapsed": true
   },
   "outputs": [],
   "source": [
    "df[\"enquiry/accounts\"] =df[\"loan_enquiries_last_1_month\"]/df[\"number_of_bank_accounts\"]"
   ]
  },
  {
   "cell_type": "code",
   "execution_count": 276,
   "metadata": {},
   "outputs": [
    {
     "data": {
      "text/html": [
       "<div>\n",
       "<style scoped>\n",
       "    .dataframe tbody tr th:only-of-type {\n",
       "        vertical-align: middle;\n",
       "    }\n",
       "\n",
       "    .dataframe tbody tr th {\n",
       "        vertical-align: top;\n",
       "    }\n",
       "\n",
       "    .dataframe thead th {\n",
       "        text-align: right;\n",
       "    }\n",
       "</style>\n",
       "<table border=\"1\" class=\"dataframe\">\n",
       "  <thead>\n",
       "    <tr style=\"text-align: right;\">\n",
       "      <th></th>\n",
       "      <th>ref_var</th>\n",
       "      <th>bad_var</th>\n",
       "      <th>Net_debits_last_1_month</th>\n",
       "      <th>Net_credits_last_1_month</th>\n",
       "      <th>Balance_of_outstanding_loans_last_1_month</th>\n",
       "      <th>loan_enquiries_last_1_month</th>\n",
       "      <th>overdue_on_outstanding_loans_last_1_month</th>\n",
       "      <th>age</th>\n",
       "      <th>monthly_salary</th>\n",
       "      <th>number_of_bank_accounts</th>\n",
       "      <th>married_indicator</th>\n",
       "      <th>day_of_application</th>\n",
       "      <th>levelofeducation_v1</th>\n",
       "      <th>state</th>\n",
       "      <th>overdue_last_month/monthly_sal</th>\n",
       "      <th>debit/credit</th>\n",
       "    </tr>\n",
       "  </thead>\n",
       "  <tbody>\n",
       "    <tr>\n",
       "      <th>0</th>\n",
       "      <td>1234</td>\n",
       "      <td>1</td>\n",
       "      <td>589.26</td>\n",
       "      <td>2998.000000</td>\n",
       "      <td>0.000000</td>\n",
       "      <td>0</td>\n",
       "      <td>0.000000</td>\n",
       "      <td>24</td>\n",
       "      <td>25452.86</td>\n",
       "      <td>1.0</td>\n",
       "      <td>0</td>\n",
       "      <td>0.436782</td>\n",
       "      <td>0.440000</td>\n",
       "      <td>0.366667</td>\n",
       "      <td>0.000000</td>\n",
       "      <td>-2408.740000</td>\n",
       "    </tr>\n",
       "    <tr>\n",
       "      <th>1</th>\n",
       "      <td>1235</td>\n",
       "      <td>0</td>\n",
       "      <td>9700.00</td>\n",
       "      <td>9678.138141</td>\n",
       "      <td>89201.000000</td>\n",
       "      <td>4</td>\n",
       "      <td>0.000000</td>\n",
       "      <td>43</td>\n",
       "      <td>11000.00</td>\n",
       "      <td>1.0</td>\n",
       "      <td>0</td>\n",
       "      <td>0.436782</td>\n",
       "      <td>0.393939</td>\n",
       "      <td>0.250000</td>\n",
       "      <td>0.000000</td>\n",
       "      <td>21.861859</td>\n",
       "    </tr>\n",
       "    <tr>\n",
       "      <th>2</th>\n",
       "      <td>1236</td>\n",
       "      <td>0</td>\n",
       "      <td>11951.00</td>\n",
       "      <td>8791.750000</td>\n",
       "      <td>14048.350271</td>\n",
       "      <td>18</td>\n",
       "      <td>3764.460688</td>\n",
       "      <td>20</td>\n",
       "      <td>4351.00</td>\n",
       "      <td>2.0</td>\n",
       "      <td>0</td>\n",
       "      <td>0.405063</td>\n",
       "      <td>0.393939</td>\n",
       "      <td>0.464567</td>\n",
       "      <td>0.865194</td>\n",
       "      <td>3159.250000</td>\n",
       "    </tr>\n",
       "    <tr>\n",
       "      <th>3</th>\n",
       "      <td>1237</td>\n",
       "      <td>0</td>\n",
       "      <td>28228.00</td>\n",
       "      <td>17154.150000</td>\n",
       "      <td>19346.000000</td>\n",
       "      <td>15</td>\n",
       "      <td>8721.644826</td>\n",
       "      <td>28</td>\n",
       "      <td>25000.00</td>\n",
       "      <td>1.0</td>\n",
       "      <td>0</td>\n",
       "      <td>0.443299</td>\n",
       "      <td>0.433071</td>\n",
       "      <td>0.464567</td>\n",
       "      <td>0.348866</td>\n",
       "      <td>11073.850000</td>\n",
       "    </tr>\n",
       "    <tr>\n",
       "      <th>4</th>\n",
       "      <td>1238</td>\n",
       "      <td>0</td>\n",
       "      <td>8770.00</td>\n",
       "      <td>775.000000</td>\n",
       "      <td>0.000000</td>\n",
       "      <td>0</td>\n",
       "      <td>0.000000</td>\n",
       "      <td>22</td>\n",
       "      <td>12647.00</td>\n",
       "      <td>1.0</td>\n",
       "      <td>0</td>\n",
       "      <td>0.405063</td>\n",
       "      <td>0.433071</td>\n",
       "      <td>0.464567</td>\n",
       "      <td>0.000000</td>\n",
       "      <td>7995.000000</td>\n",
       "    </tr>\n",
       "  </tbody>\n",
       "</table>\n",
       "</div>"
      ],
      "text/plain": [
       "   ref_var  bad_var  Net_debits_last_1_month  Net_credits_last_1_month  \\\n",
       "0     1234        1                   589.26               2998.000000   \n",
       "1     1235        0                  9700.00               9678.138141   \n",
       "2     1236        0                 11951.00               8791.750000   \n",
       "3     1237        0                 28228.00              17154.150000   \n",
       "4     1238        0                  8770.00                775.000000   \n",
       "\n",
       "   Balance_of_outstanding_loans_last_1_month  loan_enquiries_last_1_month  \\\n",
       "0                                   0.000000                            0   \n",
       "1                               89201.000000                            4   \n",
       "2                               14048.350271                           18   \n",
       "3                               19346.000000                           15   \n",
       "4                                   0.000000                            0   \n",
       "\n",
       "   overdue_on_outstanding_loans_last_1_month  age  monthly_salary  \\\n",
       "0                                   0.000000   24        25452.86   \n",
       "1                                   0.000000   43        11000.00   \n",
       "2                                3764.460688   20         4351.00   \n",
       "3                                8721.644826   28        25000.00   \n",
       "4                                   0.000000   22        12647.00   \n",
       "\n",
       "   number_of_bank_accounts  married_indicator  day_of_application  \\\n",
       "0                      1.0                  0            0.436782   \n",
       "1                      1.0                  0            0.436782   \n",
       "2                      2.0                  0            0.405063   \n",
       "3                      1.0                  0            0.443299   \n",
       "4                      1.0                  0            0.405063   \n",
       "\n",
       "   levelofeducation_v1     state  overdue_last_month/monthly_sal  debit/credit  \n",
       "0             0.440000  0.366667                        0.000000  -2408.740000  \n",
       "1             0.393939  0.250000                        0.000000     21.861859  \n",
       "2             0.393939  0.464567                        0.865194   3159.250000  \n",
       "3             0.433071  0.464567                        0.348866  11073.850000  \n",
       "4             0.433071  0.464567                        0.000000   7995.000000  "
      ]
     },
     "execution_count": 276,
     "metadata": {},
     "output_type": "execute_result"
    }
   ],
   "source": [
    "df.head()"
   ]
  },
  {
   "cell_type": "markdown",
   "metadata": {},
   "source": [
    "# Variable Selection"
   ]
  },
  {
   "cell_type": "code",
   "execution_count": 290,
   "metadata": {},
   "outputs": [
    {
     "name": "stderr",
     "output_type": "stream",
     "text": [
      "/opt/python/python35/lib/python3.5/site-packages/sklearn/ensemble/forest.py:248: FutureWarning: The default value of n_estimators will change from 10 in version 0.20 to 100 in 0.22.\n",
      "  \"10 in version 0.20 to 100 in 0.22.\", FutureWarning)\n"
     ]
    },
    {
     "name": "stdout",
     "output_type": "stream",
     "text": [
      "[0.06790783 0.05745446 0.0572681  0.05409541 0.04449672 0.06956448\n",
      " 0.06543333 0.05023633 0.02003832 0.07245691 0.06410405 0.08332346\n",
      " 0.0469523  0.06616413 0.05651117 0.06545725 0.05853574]\n"
     ]
    },
    {
     "data": {
      "image/png": "[encoded data removed]",
      "text/plain": [
       "<Figure size 432x288 with 1 Axes>"
      ]
     },
     "metadata": {},
     "output_type": "display_data"
    }
   ],
   "source": [
    "\n",
    "X = df.iloc[:,2:113]  #independent columns\n",
    "y = df.iloc[:,1]    #target column i.e price range\n",
    "from sklearn.ensemble import ExtraTreesClassifier\n",
    "import matplotlib.pyplot as plt\n",
    "model = ExtraTreesClassifier()\n",
    "model.fit(X,y)\n",
    "print(model.feature_importances_) #use inbuilt class feature_importances of tree based classifiers\n",
    "#plot graph of feature importances for better visualization\n",
    "feat_importances = pd.Series(model.feature_importances_, index=X.columns)\n",
    "feat_importances.nlargest(14).plot(kind='barh')\n",
    "plt.show()"
   ]
  },
  {
   "cell_type": "code",
   "execution_count": 291,
   "metadata": {
    "collapsed": true
   },
   "outputs": [],
   "source": [
    "import seaborn as sns\n",
    "X = df.iloc[:,2:113]  #independent columns\n",
    "y = df.iloc[:,1]\n",
    "corrmat = data.corr()\n",
    "top_corr_features = corrmat.index\n",
    "plt.figure(figsize=(20,20))\n",
    "#plot heat map\n",
    "g=sns.heatmap(data[top_corr_features].corr(),annot=True,cmap=\"RdYlGn\")\n"
   ]
  },
  {
   "cell_type": "code",
   "execution_count": 292,
   "metadata": {},
   "outputs": [
    {
     "data": {
      "image/png": "[encoded data removed]",
      "text/plain": [
       "<Figure size 1440x1440 with 2 Axes>"
      ]
     },
     "metadata": {},
     "output_type": "display_data"
    }
   ],
   "source": [
    "plt.show()"
   ]
  },
  {
   "cell_type": "code",
   "execution_count": null,
   "metadata": {
    "collapsed": true
   },
   "outputs": [],
   "source": [
    "Since there are less than 20 varaibles we can use all of them in our model."
   ]
  },
  {
   "cell_type": "markdown",
   "metadata": {
    "collapsed": true
   },
   "source": [
    "# Modelling USing XgBoost"
   ]
  },
  {
   "cell_type": "code",
   "execution_count": 293,
   "metadata": {},
   "outputs": [
    {
     "data": {
      "text/html": [
       "<div>\n",
       "<style scoped>\n",
       "    .dataframe tbody tr th:only-of-type {\n",
       "        vertical-align: middle;\n",
       "    }\n",
       "\n",
       "    .dataframe tbody tr th {\n",
       "        vertical-align: top;\n",
       "    }\n",
       "\n",
       "    .dataframe thead th {\n",
       "        text-align: right;\n",
       "    }\n",
       "</style>\n",
       "<table border=\"1\" class=\"dataframe\">\n",
       "  <thead>\n",
       "    <tr style=\"text-align: right;\">\n",
       "      <th></th>\n",
       "      <th>ref_var</th>\n",
       "      <th>bad_var</th>\n",
       "      <th>Net_debits_last_1_month</th>\n",
       "      <th>Net_credits_last_1_month</th>\n",
       "      <th>Balance_of_outstanding_loans_last_1_month</th>\n",
       "      <th>loan_enquiries_last_1_month</th>\n",
       "      <th>overdue_on_outstanding_loans_last_1_month</th>\n",
       "      <th>age</th>\n",
       "      <th>monthly_salary</th>\n",
       "      <th>number_of_bank_accounts</th>\n",
       "      <th>married_indicator</th>\n",
       "      <th>day_of_application</th>\n",
       "      <th>levelofeducation_v1</th>\n",
       "      <th>state</th>\n",
       "      <th>overdue_last_month/monthly_sal</th>\n",
       "      <th>debit/credit</th>\n",
       "      <th>loan/salary</th>\n",
       "      <th>age/salary</th>\n",
       "      <th>enquiry/accounts</th>\n",
       "    </tr>\n",
       "  </thead>\n",
       "  <tbody>\n",
       "    <tr>\n",
       "      <th>0</th>\n",
       "      <td>1234</td>\n",
       "      <td>1</td>\n",
       "      <td>589.26</td>\n",
       "      <td>2998.000000</td>\n",
       "      <td>0.000000</td>\n",
       "      <td>0</td>\n",
       "      <td>0.000000</td>\n",
       "      <td>24</td>\n",
       "      <td>25452.86</td>\n",
       "      <td>1.0</td>\n",
       "      <td>0</td>\n",
       "      <td>0.436782</td>\n",
       "      <td>0.440000</td>\n",
       "      <td>0.366667</td>\n",
       "      <td>0.000000</td>\n",
       "      <td>-2408.740000</td>\n",
       "      <td>0.000000</td>\n",
       "      <td>0.000943</td>\n",
       "      <td>0.0</td>\n",
       "    </tr>\n",
       "    <tr>\n",
       "      <th>1</th>\n",
       "      <td>1235</td>\n",
       "      <td>0</td>\n",
       "      <td>9700.00</td>\n",
       "      <td>9678.138141</td>\n",
       "      <td>89201.000000</td>\n",
       "      <td>4</td>\n",
       "      <td>0.000000</td>\n",
       "      <td>43</td>\n",
       "      <td>11000.00</td>\n",
       "      <td>1.0</td>\n",
       "      <td>0</td>\n",
       "      <td>0.436782</td>\n",
       "      <td>0.393939</td>\n",
       "      <td>0.250000</td>\n",
       "      <td>0.000000</td>\n",
       "      <td>21.861859</td>\n",
       "      <td>8.109182</td>\n",
       "      <td>0.003909</td>\n",
       "      <td>4.0</td>\n",
       "    </tr>\n",
       "    <tr>\n",
       "      <th>2</th>\n",
       "      <td>1236</td>\n",
       "      <td>0</td>\n",
       "      <td>11951.00</td>\n",
       "      <td>8791.750000</td>\n",
       "      <td>14048.350271</td>\n",
       "      <td>18</td>\n",
       "      <td>3764.460688</td>\n",
       "      <td>20</td>\n",
       "      <td>4351.00</td>\n",
       "      <td>2.0</td>\n",
       "      <td>0</td>\n",
       "      <td>0.405063</td>\n",
       "      <td>0.393939</td>\n",
       "      <td>0.464567</td>\n",
       "      <td>0.865194</td>\n",
       "      <td>3159.250000</td>\n",
       "      <td>3.228764</td>\n",
       "      <td>0.004597</td>\n",
       "      <td>9.0</td>\n",
       "    </tr>\n",
       "    <tr>\n",
       "      <th>3</th>\n",
       "      <td>1237</td>\n",
       "      <td>0</td>\n",
       "      <td>28228.00</td>\n",
       "      <td>17154.150000</td>\n",
       "      <td>19346.000000</td>\n",
       "      <td>15</td>\n",
       "      <td>8721.644826</td>\n",
       "      <td>28</td>\n",
       "      <td>25000.00</td>\n",
       "      <td>1.0</td>\n",
       "      <td>0</td>\n",
       "      <td>0.443299</td>\n",
       "      <td>0.433071</td>\n",
       "      <td>0.464567</td>\n",
       "      <td>0.348866</td>\n",
       "      <td>11073.850000</td>\n",
       "      <td>0.773840</td>\n",
       "      <td>0.001120</td>\n",
       "      <td>15.0</td>\n",
       "    </tr>\n",
       "    <tr>\n",
       "      <th>4</th>\n",
       "      <td>1238</td>\n",
       "      <td>0</td>\n",
       "      <td>8770.00</td>\n",
       "      <td>775.000000</td>\n",
       "      <td>0.000000</td>\n",
       "      <td>0</td>\n",
       "      <td>0.000000</td>\n",
       "      <td>22</td>\n",
       "      <td>12647.00</td>\n",
       "      <td>1.0</td>\n",
       "      <td>0</td>\n",
       "      <td>0.405063</td>\n",
       "      <td>0.433071</td>\n",
       "      <td>0.464567</td>\n",
       "      <td>0.000000</td>\n",
       "      <td>7995.000000</td>\n",
       "      <td>0.000000</td>\n",
       "      <td>0.001740</td>\n",
       "      <td>0.0</td>\n",
       "    </tr>\n",
       "  </tbody>\n",
       "</table>\n",
       "</div>"
      ],
      "text/plain": [
       "   ref_var  bad_var  Net_debits_last_1_month  Net_credits_last_1_month  \\\n",
       "0     1234        1                   589.26               2998.000000   \n",
       "1     1235        0                  9700.00               9678.138141   \n",
       "2     1236        0                 11951.00               8791.750000   \n",
       "3     1237        0                 28228.00              17154.150000   \n",
       "4     1238        0                  8770.00                775.000000   \n",
       "\n",
       "   Balance_of_outstanding_loans_last_1_month  loan_enquiries_last_1_month  \\\n",
       "0                                   0.000000                            0   \n",
       "1                               89201.000000                            4   \n",
       "2                               14048.350271                           18   \n",
       "3                               19346.000000                           15   \n",
       "4                                   0.000000                            0   \n",
       "\n",
       "   overdue_on_outstanding_loans_last_1_month  age  monthly_salary  \\\n",
       "0                                   0.000000   24        25452.86   \n",
       "1                                   0.000000   43        11000.00   \n",
       "2                                3764.460688   20         4351.00   \n",
       "3                                8721.644826   28        25000.00   \n",
       "4                                   0.000000   22        12647.00   \n",
       "\n",
       "   number_of_bank_accounts  married_indicator  day_of_application  \\\n",
       "0                      1.0                  0            0.436782   \n",
       "1                      1.0                  0            0.436782   \n",
       "2                      2.0                  0            0.405063   \n",
       "3                      1.0                  0            0.443299   \n",
       "4                      1.0                  0            0.405063   \n",
       "\n",
       "   levelofeducation_v1     state  overdue_last_month/monthly_sal  \\\n",
       "0             0.440000  0.366667                        0.000000   \n",
       "1             0.393939  0.250000                        0.000000   \n",
       "2             0.393939  0.464567                        0.865194   \n",
       "3             0.433071  0.464567                        0.348866   \n",
       "4             0.433071  0.464567                        0.000000   \n",
       "\n",
       "   debit/credit  loan/salary  age/salary  enquiry/accounts  \n",
       "0  -2408.740000     0.000000    0.000943               0.0  \n",
       "1     21.861859     8.109182    0.003909               4.0  \n",
       "2   3159.250000     3.228764    0.004597               9.0  \n",
       "3  11073.850000     0.773840    0.001120              15.0  \n",
       "4   7995.000000     0.000000    0.001740               0.0  "
      ]
     },
     "execution_count": 293,
     "metadata": {},
     "output_type": "execute_result"
    }
   ],
   "source": [
    "df.head()"
   ]
  },
  {
   "cell_type": "code",
   "execution_count": 294,
   "metadata": {
    "collapsed": true
   },
   "outputs": [],
   "source": [
    "df_model = df.copy()"
   ]
  },
  {
   "cell_type": "code",
   "execution_count": 295,
   "metadata": {},
   "outputs": [
    {
     "data": {
      "text/html": [
       "<div>\n",
       "<style scoped>\n",
       "    .dataframe tbody tr th:only-of-type {\n",
       "        vertical-align: middle;\n",
       "    }\n",
       "\n",
       "    .dataframe tbody tr th {\n",
       "        vertical-align: top;\n",
       "    }\n",
       "\n",
       "    .dataframe thead th {\n",
       "        text-align: right;\n",
       "    }\n",
       "</style>\n",
       "<table border=\"1\" class=\"dataframe\">\n",
       "  <thead>\n",
       "    <tr style=\"text-align: right;\">\n",
       "      <th></th>\n",
       "      <th>ref_var</th>\n",
       "      <th>bad_var</th>\n",
       "      <th>Net_debits_last_1_month</th>\n",
       "      <th>Net_credits_last_1_month</th>\n",
       "      <th>Balance_of_outstanding_loans_last_1_month</th>\n",
       "      <th>loan_enquiries_last_1_month</th>\n",
       "      <th>overdue_on_outstanding_loans_last_1_month</th>\n",
       "      <th>age</th>\n",
       "      <th>monthly_salary</th>\n",
       "      <th>number_of_bank_accounts</th>\n",
       "      <th>married_indicator</th>\n",
       "      <th>day_of_application</th>\n",
       "      <th>levelofeducation_v1</th>\n",
       "      <th>state</th>\n",
       "      <th>overdue_last_month/monthly_sal</th>\n",
       "      <th>debit/credit</th>\n",
       "      <th>loan/salary</th>\n",
       "      <th>age/salary</th>\n",
       "      <th>enquiry/accounts</th>\n",
       "    </tr>\n",
       "  </thead>\n",
       "  <tbody>\n",
       "    <tr>\n",
       "      <th>0</th>\n",
       "      <td>1234</td>\n",
       "      <td>1</td>\n",
       "      <td>589.26</td>\n",
       "      <td>2998.000000</td>\n",
       "      <td>0.000000</td>\n",
       "      <td>0</td>\n",
       "      <td>0.000000</td>\n",
       "      <td>24</td>\n",
       "      <td>25452.86</td>\n",
       "      <td>1.0</td>\n",
       "      <td>0</td>\n",
       "      <td>0.436782</td>\n",
       "      <td>0.440000</td>\n",
       "      <td>0.366667</td>\n",
       "      <td>0.000000</td>\n",
       "      <td>-2408.740000</td>\n",
       "      <td>0.000000</td>\n",
       "      <td>0.000943</td>\n",
       "      <td>0.0</td>\n",
       "    </tr>\n",
       "    <tr>\n",
       "      <th>1</th>\n",
       "      <td>1235</td>\n",
       "      <td>0</td>\n",
       "      <td>9700.00</td>\n",
       "      <td>9678.138141</td>\n",
       "      <td>89201.000000</td>\n",
       "      <td>4</td>\n",
       "      <td>0.000000</td>\n",
       "      <td>43</td>\n",
       "      <td>11000.00</td>\n",
       "      <td>1.0</td>\n",
       "      <td>0</td>\n",
       "      <td>0.436782</td>\n",
       "      <td>0.393939</td>\n",
       "      <td>0.250000</td>\n",
       "      <td>0.000000</td>\n",
       "      <td>21.861859</td>\n",
       "      <td>8.109182</td>\n",
       "      <td>0.003909</td>\n",
       "      <td>4.0</td>\n",
       "    </tr>\n",
       "    <tr>\n",
       "      <th>2</th>\n",
       "      <td>1236</td>\n",
       "      <td>0</td>\n",
       "      <td>11951.00</td>\n",
       "      <td>8791.750000</td>\n",
       "      <td>14048.350271</td>\n",
       "      <td>18</td>\n",
       "      <td>3764.460688</td>\n",
       "      <td>20</td>\n",
       "      <td>4351.00</td>\n",
       "      <td>2.0</td>\n",
       "      <td>0</td>\n",
       "      <td>0.405063</td>\n",
       "      <td>0.393939</td>\n",
       "      <td>0.464567</td>\n",
       "      <td>0.865194</td>\n",
       "      <td>3159.250000</td>\n",
       "      <td>3.228764</td>\n",
       "      <td>0.004597</td>\n",
       "      <td>9.0</td>\n",
       "    </tr>\n",
       "    <tr>\n",
       "      <th>3</th>\n",
       "      <td>1237</td>\n",
       "      <td>0</td>\n",
       "      <td>28228.00</td>\n",
       "      <td>17154.150000</td>\n",
       "      <td>19346.000000</td>\n",
       "      <td>15</td>\n",
       "      <td>8721.644826</td>\n",
       "      <td>28</td>\n",
       "      <td>25000.00</td>\n",
       "      <td>1.0</td>\n",
       "      <td>0</td>\n",
       "      <td>0.443299</td>\n",
       "      <td>0.433071</td>\n",
       "      <td>0.464567</td>\n",
       "      <td>0.348866</td>\n",
       "      <td>11073.850000</td>\n",
       "      <td>0.773840</td>\n",
       "      <td>0.001120</td>\n",
       "      <td>15.0</td>\n",
       "    </tr>\n",
       "    <tr>\n",
       "      <th>4</th>\n",
       "      <td>1238</td>\n",
       "      <td>0</td>\n",
       "      <td>8770.00</td>\n",
       "      <td>775.000000</td>\n",
       "      <td>0.000000</td>\n",
       "      <td>0</td>\n",
       "      <td>0.000000</td>\n",
       "      <td>22</td>\n",
       "      <td>12647.00</td>\n",
       "      <td>1.0</td>\n",
       "      <td>0</td>\n",
       "      <td>0.405063</td>\n",
       "      <td>0.433071</td>\n",
       "      <td>0.464567</td>\n",
       "      <td>0.000000</td>\n",
       "      <td>7995.000000</td>\n",
       "      <td>0.000000</td>\n",
       "      <td>0.001740</td>\n",
       "      <td>0.0</td>\n",
       "    </tr>\n",
       "  </tbody>\n",
       "</table>\n",
       "</div>"
      ],
      "text/plain": [
       "   ref_var  bad_var  Net_debits_last_1_month  Net_credits_last_1_month  \\\n",
       "0     1234        1                   589.26               2998.000000   \n",
       "1     1235        0                  9700.00               9678.138141   \n",
       "2     1236        0                 11951.00               8791.750000   \n",
       "3     1237        0                 28228.00              17154.150000   \n",
       "4     1238        0                  8770.00                775.000000   \n",
       "\n",
       "   Balance_of_outstanding_loans_last_1_month  loan_enquiries_last_1_month  \\\n",
       "0                                   0.000000                            0   \n",
       "1                               89201.000000                            4   \n",
       "2                               14048.350271                           18   \n",
       "3                               19346.000000                           15   \n",
       "4                                   0.000000                            0   \n",
       "\n",
       "   overdue_on_outstanding_loans_last_1_month  age  monthly_salary  \\\n",
       "0                                   0.000000   24        25452.86   \n",
       "1                                   0.000000   43        11000.00   \n",
       "2                                3764.460688   20         4351.00   \n",
       "3                                8721.644826   28        25000.00   \n",
       "4                                   0.000000   22        12647.00   \n",
       "\n",
       "   number_of_bank_accounts  married_indicator  day_of_application  \\\n",
       "0                      1.0                  0            0.436782   \n",
       "1                      1.0                  0            0.436782   \n",
       "2                      2.0                  0            0.405063   \n",
       "3                      1.0                  0            0.443299   \n",
       "4                      1.0                  0            0.405063   \n",
       "\n",
       "   levelofeducation_v1     state  overdue_last_month/monthly_sal  \\\n",
       "0             0.440000  0.366667                        0.000000   \n",
       "1             0.393939  0.250000                        0.000000   \n",
       "2             0.393939  0.464567                        0.865194   \n",
       "3             0.433071  0.464567                        0.348866   \n",
       "4             0.433071  0.464567                        0.000000   \n",
       "\n",
       "   debit/credit  loan/salary  age/salary  enquiry/accounts  \n",
       "0  -2408.740000     0.000000    0.000943               0.0  \n",
       "1     21.861859     8.109182    0.003909               4.0  \n",
       "2   3159.250000     3.228764    0.004597               9.0  \n",
       "3  11073.850000     0.773840    0.001120              15.0  \n",
       "4   7995.000000     0.000000    0.001740               0.0  "
      ]
     },
     "execution_count": 295,
     "metadata": {},
     "output_type": "execute_result"
    }
   ],
   "source": [
    "df_model.head()"
   ]
  },
  {
   "cell_type": "code",
   "execution_count": 297,
   "metadata": {},
   "outputs": [
    {
     "data": {
      "text/plain": [
       "(579, 19)"
      ]
     },
     "execution_count": 297,
     "metadata": {},
     "output_type": "execute_result"
    }
   ],
   "source": [
    "df.shape"
   ]
  },
  {
   "cell_type": "code",
   "execution_count": null,
   "metadata": {
    "collapsed": true
   },
   "outputs": [],
   "source": [
    "\n",
    "#splitting inti train and test \n",
    "df_model = df.copy()"
   ]
  },
  {
   "cell_type": "code",
   "execution_count": 298,
   "metadata": {
    "collapsed": true
   },
   "outputs": [],
   "source": [
    "df_model_train = df_model[:450]\n",
    "df_model_test = df_model[450:579]"
   ]
  },
  {
   "cell_type": "code",
   "execution_count": 299,
   "metadata": {},
   "outputs": [
    {
     "data": {
      "text/html": [
       "<div>\n",
       "<style scoped>\n",
       "    .dataframe tbody tr th:only-of-type {\n",
       "        vertical-align: middle;\n",
       "    }\n",
       "\n",
       "    .dataframe tbody tr th {\n",
       "        vertical-align: top;\n",
       "    }\n",
       "\n",
       "    .dataframe thead th {\n",
       "        text-align: right;\n",
       "    }\n",
       "</style>\n",
       "<table border=\"1\" class=\"dataframe\">\n",
       "  <thead>\n",
       "    <tr style=\"text-align: right;\">\n",
       "      <th></th>\n",
       "      <th>ref_var</th>\n",
       "      <th>bad_var</th>\n",
       "      <th>Net_debits_last_1_month</th>\n",
       "      <th>Net_credits_last_1_month</th>\n",
       "      <th>Balance_of_outstanding_loans_last_1_month</th>\n",
       "      <th>loan_enquiries_last_1_month</th>\n",
       "      <th>overdue_on_outstanding_loans_last_1_month</th>\n",
       "      <th>age</th>\n",
       "      <th>monthly_salary</th>\n",
       "      <th>number_of_bank_accounts</th>\n",
       "      <th>married_indicator</th>\n",
       "      <th>day_of_application</th>\n",
       "      <th>levelofeducation_v1</th>\n",
       "      <th>state</th>\n",
       "      <th>overdue_last_month/monthly_sal</th>\n",
       "      <th>debit/credit</th>\n",
       "      <th>loan/salary</th>\n",
       "      <th>age/salary</th>\n",
       "      <th>enquiry/accounts</th>\n",
       "    </tr>\n",
       "  </thead>\n",
       "  <tbody>\n",
       "    <tr>\n",
       "      <th>0</th>\n",
       "      <td>1234</td>\n",
       "      <td>1</td>\n",
       "      <td>589.26</td>\n",
       "      <td>2998.000000</td>\n",
       "      <td>0.000000</td>\n",
       "      <td>0</td>\n",
       "      <td>0.000000</td>\n",
       "      <td>24</td>\n",
       "      <td>25452.86</td>\n",
       "      <td>1.0</td>\n",
       "      <td>0</td>\n",
       "      <td>0.436782</td>\n",
       "      <td>0.440000</td>\n",
       "      <td>0.366667</td>\n",
       "      <td>0.000000</td>\n",
       "      <td>-2408.740000</td>\n",
       "      <td>0.000000</td>\n",
       "      <td>0.000943</td>\n",
       "      <td>0.0</td>\n",
       "    </tr>\n",
       "    <tr>\n",
       "      <th>1</th>\n",
       "      <td>1235</td>\n",
       "      <td>0</td>\n",
       "      <td>9700.00</td>\n",
       "      <td>9678.138141</td>\n",
       "      <td>89201.000000</td>\n",
       "      <td>4</td>\n",
       "      <td>0.000000</td>\n",
       "      <td>43</td>\n",
       "      <td>11000.00</td>\n",
       "      <td>1.0</td>\n",
       "      <td>0</td>\n",
       "      <td>0.436782</td>\n",
       "      <td>0.393939</td>\n",
       "      <td>0.250000</td>\n",
       "      <td>0.000000</td>\n",
       "      <td>21.861859</td>\n",
       "      <td>8.109182</td>\n",
       "      <td>0.003909</td>\n",
       "      <td>4.0</td>\n",
       "    </tr>\n",
       "    <tr>\n",
       "      <th>2</th>\n",
       "      <td>1236</td>\n",
       "      <td>0</td>\n",
       "      <td>11951.00</td>\n",
       "      <td>8791.750000</td>\n",
       "      <td>14048.350271</td>\n",
       "      <td>18</td>\n",
       "      <td>3764.460688</td>\n",
       "      <td>20</td>\n",
       "      <td>4351.00</td>\n",
       "      <td>2.0</td>\n",
       "      <td>0</td>\n",
       "      <td>0.405063</td>\n",
       "      <td>0.393939</td>\n",
       "      <td>0.464567</td>\n",
       "      <td>0.865194</td>\n",
       "      <td>3159.250000</td>\n",
       "      <td>3.228764</td>\n",
       "      <td>0.004597</td>\n",
       "      <td>9.0</td>\n",
       "    </tr>\n",
       "    <tr>\n",
       "      <th>3</th>\n",
       "      <td>1237</td>\n",
       "      <td>0</td>\n",
       "      <td>28228.00</td>\n",
       "      <td>17154.150000</td>\n",
       "      <td>19346.000000</td>\n",
       "      <td>15</td>\n",
       "      <td>8721.644826</td>\n",
       "      <td>28</td>\n",
       "      <td>25000.00</td>\n",
       "      <td>1.0</td>\n",
       "      <td>0</td>\n",
       "      <td>0.443299</td>\n",
       "      <td>0.433071</td>\n",
       "      <td>0.464567</td>\n",
       "      <td>0.348866</td>\n",
       "      <td>11073.850000</td>\n",
       "      <td>0.773840</td>\n",
       "      <td>0.001120</td>\n",
       "      <td>15.0</td>\n",
       "    </tr>\n",
       "    <tr>\n",
       "      <th>4</th>\n",
       "      <td>1238</td>\n",
       "      <td>0</td>\n",
       "      <td>8770.00</td>\n",
       "      <td>775.000000</td>\n",
       "      <td>0.000000</td>\n",
       "      <td>0</td>\n",
       "      <td>0.000000</td>\n",
       "      <td>22</td>\n",
       "      <td>12647.00</td>\n",
       "      <td>1.0</td>\n",
       "      <td>0</td>\n",
       "      <td>0.405063</td>\n",
       "      <td>0.433071</td>\n",
       "      <td>0.464567</td>\n",
       "      <td>0.000000</td>\n",
       "      <td>7995.000000</td>\n",
       "      <td>0.000000</td>\n",
       "      <td>0.001740</td>\n",
       "      <td>0.0</td>\n",
       "    </tr>\n",
       "  </tbody>\n",
       "</table>\n",
       "</div>"
      ],
      "text/plain": [
       "   ref_var  bad_var  Net_debits_last_1_month  Net_credits_last_1_month  \\\n",
       "0     1234        1                   589.26               2998.000000   \n",
       "1     1235        0                  9700.00               9678.138141   \n",
       "2     1236        0                 11951.00               8791.750000   \n",
       "3     1237        0                 28228.00              17154.150000   \n",
       "4     1238        0                  8770.00                775.000000   \n",
       "\n",
       "   Balance_of_outstanding_loans_last_1_month  loan_enquiries_last_1_month  \\\n",
       "0                                   0.000000                            0   \n",
       "1                               89201.000000                            4   \n",
       "2                               14048.350271                           18   \n",
       "3                               19346.000000                           15   \n",
       "4                                   0.000000                            0   \n",
       "\n",
       "   overdue_on_outstanding_loans_last_1_month  age  monthly_salary  \\\n",
       "0                                   0.000000   24        25452.86   \n",
       "1                                   0.000000   43        11000.00   \n",
       "2                                3764.460688   20         4351.00   \n",
       "3                                8721.644826   28        25000.00   \n",
       "4                                   0.000000   22        12647.00   \n",
       "\n",
       "   number_of_bank_accounts  married_indicator  day_of_application  \\\n",
       "0                      1.0                  0            0.436782   \n",
       "1                      1.0                  0            0.436782   \n",
       "2                      2.0                  0            0.405063   \n",
       "3                      1.0                  0            0.443299   \n",
       "4                      1.0                  0            0.405063   \n",
       "\n",
       "   levelofeducation_v1     state  overdue_last_month/monthly_sal  \\\n",
       "0             0.440000  0.366667                        0.000000   \n",
       "1             0.393939  0.250000                        0.000000   \n",
       "2             0.393939  0.464567                        0.865194   \n",
       "3             0.433071  0.464567                        0.348866   \n",
       "4             0.433071  0.464567                        0.000000   \n",
       "\n",
       "   debit/credit  loan/salary  age/salary  enquiry/accounts  \n",
       "0  -2408.740000     0.000000    0.000943               0.0  \n",
       "1     21.861859     8.109182    0.003909               4.0  \n",
       "2   3159.250000     3.228764    0.004597               9.0  \n",
       "3  11073.850000     0.773840    0.001120              15.0  \n",
       "4   7995.000000     0.000000    0.001740               0.0  "
      ]
     },
     "execution_count": 299,
     "metadata": {},
     "output_type": "execute_result"
    }
   ],
   "source": [
    "df_model_train.head()"
   ]
  },
  {
   "cell_type": "code",
   "execution_count": 331,
   "metadata": {},
   "outputs": [
    {
     "name": "stdout",
     "output_type": "stream",
     "text": [
      "0.90\n",
      "[12:43:47] WARNING: /workspace/src/objective/regression_obj.cu:152: reg:linear is now deprecated in favor of reg:squarederror.\n"
     ]
    }
   ],
   "source": [
    "\n",
    "y = pd.DataFrame(df_model_train[\"bad_var\"])\n",
    "\n",
    "h=pd.DataFrame(df_model_train.drop('bad_var', axis=1))\n",
    "\n",
    "\n",
    "import xgboost as xgb\n",
    "print(xgb.__version__)\n",
    "\n",
    "dtrain = xgb.DMatrix(h, label=y)\n",
    "\n",
    "param = {\n",
    "    'max_depth': 5,  \n",
    "    'learning_rate': .1,  \n",
    "    'objective':'reg:linear',\n",
    "    'min_child_weight':100,\n",
    "    'tree_method':'exact'\n",
    "    \n",
    "}\n",
    "\n",
    "\n",
    "\n",
    "model = xgb.train(param, dtrain,num_boost_round=1000)\n",
    "\n",
    "filename = 'model_xgb_Avid.sav'\n",
    "pickle.dump(model, open(filename, 'wb'))\n",
    "\n",
    "\n",
    "\n"
   ]
  },
  {
   "cell_type": "code",
   "execution_count": 332,
   "metadata": {
    "collapsed": true
   },
   "outputs": [],
   "source": [
    "#scoring the model"
   ]
  },
  {
   "cell_type": "code",
   "execution_count": 333,
   "metadata": {},
   "outputs": [
    {
     "name": "stdout",
     "output_type": "stream",
     "text": [
      "0.90\n",
      "[12:43:48] WARNING: /workspace/src/objective/regression_obj.cu:152: reg:linear is now deprecated in favor of reg:squarederror.\n"
     ]
    }
   ],
   "source": [
    "\n",
    "y = pd.DataFrame(df_model_test[\"bad_var\"])\n",
    "\n",
    "h=pd.DataFrame(df_model_test.drop('bad_var', axis=1))\n",
    "\n",
    "import xgboost as xgb\n",
    "print(xgb.__version__)\n",
    "\n",
    "dtest = xgb.DMatrix(h, label=y)\n",
    "\n",
    "filename = 'model_xgb_Avid.sav'\n",
    "loaded_model = pickle.load(open(filename, 'rb'))\n",
    "\n",
    "y_pred = loaded_model.predict(dtest,pred_leaf=False)\n",
    "\n",
    "a = list(y_pred)\n",
    "\n",
    "\n",
    "t=pd.DataFrame(a,columns=[\"pred\"])\n",
    "\n",
    "t[\"Actual_price\"] = list(y[\"bad_var\"])\n",
    "\n",
    "t.to_csv(\"Avid_score.csv\",index=False)\n"
   ]
  },
  {
   "cell_type": "code",
   "execution_count": 334,
   "metadata": {
    "collapsed": true
   },
   "outputs": [],
   "source": [
    "#evaluating the score"
   ]
  },
  {
   "cell_type": "code",
   "execution_count": 335,
   "metadata": {
    "collapsed": true
   },
   "outputs": [],
   "source": [
    "scores = pd.read_csv(\"Avid_score.csv\")"
   ]
  },
  {
   "cell_type": "code",
   "execution_count": 337,
   "metadata": {},
   "outputs": [
    {
     "data": {
      "text/html": [
       "<div>\n",
       "<style scoped>\n",
       "    .dataframe tbody tr th:only-of-type {\n",
       "        vertical-align: middle;\n",
       "    }\n",
       "\n",
       "    .dataframe tbody tr th {\n",
       "        vertical-align: top;\n",
       "    }\n",
       "\n",
       "    .dataframe thead th {\n",
       "        text-align: right;\n",
       "    }\n",
       "</style>\n",
       "<table border=\"1\" class=\"dataframe\">\n",
       "  <thead>\n",
       "    <tr style=\"text-align: right;\">\n",
       "      <th></th>\n",
       "      <th>pred</th>\n",
       "      <th>Actual_price</th>\n",
       "    </tr>\n",
       "  </thead>\n",
       "  <tbody>\n",
       "    <tr>\n",
       "      <th>0</th>\n",
       "      <td>0.358419</td>\n",
       "      <td>0</td>\n",
       "    </tr>\n",
       "    <tr>\n",
       "      <th>1</th>\n",
       "      <td>-0.016967</td>\n",
       "      <td>1</td>\n",
       "    </tr>\n",
       "    <tr>\n",
       "      <th>2</th>\n",
       "      <td>0.460737</td>\n",
       "      <td>1</td>\n",
       "    </tr>\n",
       "    <tr>\n",
       "      <th>3</th>\n",
       "      <td>0.336805</td>\n",
       "      <td>0</td>\n",
       "    </tr>\n",
       "    <tr>\n",
       "      <th>4</th>\n",
       "      <td>0.491663</td>\n",
       "      <td>1</td>\n",
       "    </tr>\n",
       "  </tbody>\n",
       "</table>\n",
       "</div>"
      ],
      "text/plain": [
       "       pred  Actual_price\n",
       "0  0.358419             0\n",
       "1 -0.016967             1\n",
       "2  0.460737             1\n",
       "3  0.336805             0\n",
       "4  0.491663             1"
      ]
     },
     "execution_count": 337,
     "metadata": {},
     "output_type": "execute_result"
    }
   ],
   "source": [
    "scores.head()"
   ]
  },
  {
   "cell_type": "code",
   "execution_count": 339,
   "metadata": {},
   "outputs": [],
   "source": [
    "from sklearn.metrics import confusion_matrix"
   ]
  },
  {
   "cell_type": "code",
   "execution_count": 359,
   "metadata": {},
   "outputs": [],
   "source": [
    "cut_off=0.5\n",
    "scores.loc[(scores.pred <cut_off),'scores_class']=0\n",
    "scores.loc[(scores.pred >cut_off),'scores_class']=1\n"
   ]
  },
  {
   "cell_type": "code",
   "execution_count": 360,
   "metadata": {},
   "outputs": [],
   "source": [
    "predicted=scores[\"scores_class\"]\n",
    "Y_test =scores[\"Actual_price\"]\n",
    "matrix = confusion_matrix(Y_test, predicted)"
   ]
  },
  {
   "cell_type": "code",
   "execution_count": 361,
   "metadata": {},
   "outputs": [
    {
     "data": {
      "text/plain": [
       "array([[55, 25],\n",
       "       [37, 12]])"
      ]
     },
     "execution_count": 361,
     "metadata": {},
     "output_type": "execute_result"
    }
   ],
   "source": [
    "matrix"
   ]
  },
  {
   "cell_type": "code",
   "execution_count": 365,
   "metadata": {},
   "outputs": [
    {
     "name": "stdout",
     "output_type": "stream",
     "text": [
      "0.5193798449612403\n"
     ]
    }
   ],
   "source": [
    "from sklearn import metrics\n",
    "print(metrics.accuracy_score(Y_test, predicted))"
   ]
  },
  {
   "cell_type": "code",
   "execution_count": 366,
   "metadata": {},
   "outputs": [
    {
     "name": "stdout",
     "output_type": "stream",
     "text": [
      "0.24489795918367346\n"
     ]
    }
   ],
   "source": [
    "print(metrics.recall_score(Y_test, predicted))"
   ]
  },
  {
   "cell_type": "code",
   "execution_count": 367,
   "metadata": {},
   "outputs": [
    {
     "name": "stdout",
     "output_type": "stream",
     "text": [
      "0.32432432432432434\n"
     ]
    }
   ],
   "source": [
    "print(metrics.precision_score(Y_test, predicted))"
   ]
  },
  {
   "cell_type": "code",
   "execution_count": 363,
   "metadata": {},
   "outputs": [
    {
     "data": {
      "text/plain": [
       "55.093023255813954"
      ]
     },
     "execution_count": 363,
     "metadata": {},
     "output_type": "execute_result"
    }
   ],
   "source": [
    "Accuracy"
   ]
  },
  {
   "cell_type": "code",
   "execution_count": null,
   "metadata": {
    "collapsed": true
   },
   "outputs": [],
   "source": []
  }
 ],
 "metadata": {
  "kernelspec": {
   "display_name": "Python 3",
   "language": "python",
   "name": "python3"
  },
  "language_info": {
   "codemirror_mode": {
    "name": "ipython",
    "version": 3
   },
   "file_extension": ".py",
   "mimetype": "text/x-python",
   "name": "python",
   "nbconvert_exporter": "python",
   "pygments_lexer": "ipython3",
   "version": "3.5.3"
  }
 },
 "nbformat": 4,
 "nbformat_minor": 2
}
